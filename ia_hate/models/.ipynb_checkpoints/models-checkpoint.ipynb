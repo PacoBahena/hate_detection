{
 "cells": [
  {
   "cell_type": "markdown",
   "id": "8de3fe4a-8871-4a23-af11-059bfd820b0a",
   "metadata": {},
   "source": [
    "### Modelos a entrenar\n",
    "\n",
    "1. MAquinas de soporte vectorial SVM\n",
    "2. Bosques Aleatorios RF"
   ]
  },
  {
   "cell_type": "code",
   "execution_count": 2,
   "id": "2557988b-c059-484a-8564-354e969a35a0",
   "metadata": {},
   "outputs": [],
   "source": [
    "from pprint import pprint\n",
    "import pandas as pd\n",
    "\n",
    "from sklearn.feature_extraction.text import TfidfVectorizer\n",
    "from sklearn.ensemble import RandomForestClassifier\n",
    "from sklearn import svm\n",
    "from sklearn.pipeline import Pipeline\n",
    "from sklearn.compose import ColumnTransformer\n",
    "from sklearn.preprocessing import StandardScaler, FunctionTransformer\n",
    "\n",
    "from sklearn.model_selection import train_test_split\n",
    "\n",
    "from sklearn.metrics \\\n",
    "import classification_report, recall_score, accuracy_score,precision_score, make_scorer,confusion_matrix\n",
    "from sklearn.model_selection import GridSearchCV\n"
   ]
  },
  {
   "cell_type": "code",
   "execution_count": 87,
   "id": "dffc7ddc-a2ab-45d6-a961-b38abeeca01d",
   "metadata": {},
   "outputs": [],
   "source": [
    "\n",
    "VIOLENT = \"violent\"\n",
    "NONVIOLENT = \"non-violent\"\n",
    "\n",
    "df = pd.read_csv(\"../master_data/data.csv\")\n",
    "# mapping label to 1 -> violent 0 -> non-violent\n",
    "df[\"label\"] = df[\"label\"].astype(str).apply(lambda x: VIOLENT if x == \"1\" else NONVIOLENT)\n",
    "\n"
   ]
  },
  {
   "cell_type": "code",
   "execution_count": 88,
   "id": "1a42ef45-881b-4ab1-8af2-fcfa6d517610",
   "metadata": {},
   "outputs": [
    {
     "data": {
      "text/html": [
       "<div>\n",
       "<style scoped>\n",
       "    .dataframe tbody tr th:only-of-type {\n",
       "        vertical-align: middle;\n",
       "    }\n",
       "\n",
       "    .dataframe tbody tr th {\n",
       "        vertical-align: top;\n",
       "    }\n",
       "\n",
       "    .dataframe thead th {\n",
       "        text-align: right;\n",
       "    }\n",
       "</style>\n",
       "<table border=\"1\" class=\"dataframe\">\n",
       "  <thead>\n",
       "    <tr style=\"text-align: right;\">\n",
       "      <th></th>\n",
       "      <th>feature</th>\n",
       "      <th>label</th>\n",
       "      <th>tweet_id</th>\n",
       "      <th>origin</th>\n",
       "    </tr>\n",
       "  </thead>\n",
       "  <tbody>\n",
       "    <tr>\n",
       "      <th>0</th>\n",
       "      <td>es sexy.</td>\n",
       "      <td>violent</td>\n",
       "      <td>NaN</td>\n",
       "      <td>rnn</td>\n",
       "    </tr>\n",
       "    <tr>\n",
       "      <th>1</th>\n",
       "      <td>eres mía.</td>\n",
       "      <td>violent</td>\n",
       "      <td>NaN</td>\n",
       "      <td>rnn</td>\n",
       "    </tr>\n",
       "    <tr>\n",
       "      <th>2</th>\n",
       "      <td>la gorda.</td>\n",
       "      <td>violent</td>\n",
       "      <td>NaN</td>\n",
       "      <td>rnn</td>\n",
       "    </tr>\n",
       "    <tr>\n",
       "      <th>3</th>\n",
       "      <td>a fregar.</td>\n",
       "      <td>violent</td>\n",
       "      <td>NaN</td>\n",
       "      <td>rnn</td>\n",
       "    </tr>\n",
       "    <tr>\n",
       "      <th>4</th>\n",
       "      <td>ca- gona.</td>\n",
       "      <td>violent</td>\n",
       "      <td>NaN</td>\n",
       "      <td>rnn</td>\n",
       "    </tr>\n",
       "  </tbody>\n",
       "</table>\n",
       "</div>"
      ],
      "text/plain": [
       "     feature    label  tweet_id origin\n",
       "0   es sexy.  violent       NaN    rnn\n",
       "1  eres mía.  violent       NaN    rnn\n",
       "2  la gorda.  violent       NaN    rnn\n",
       "3  a fregar.  violent       NaN    rnn\n",
       "4  ca- gona.  violent       NaN    rnn"
      ]
     },
     "execution_count": 88,
     "metadata": {},
     "output_type": "execute_result"
    }
   ],
   "source": [
    "df.head()"
   ]
  },
  {
   "cell_type": "code",
   "execution_count": 89,
   "id": "aa175fa8-7bf9-44b8-9128-43fa41a9aac3",
   "metadata": {},
   "outputs": [
    {
     "data": {
      "text/plain": [
       "label\n",
       "violent        8689\n",
       "non-violent    3028\n",
       "Name: count, dtype: int64"
      ]
     },
     "execution_count": 89,
     "metadata": {},
     "output_type": "execute_result"
    }
   ],
   "source": [
    "df.label.value_counts()"
   ]
  },
  {
   "cell_type": "markdown",
   "id": "1259b8c0-003d-4738-9e4d-614aa2b22bb0",
   "metadata": {},
   "source": [
    "The dataset is imbalanced, lets balance it out. "
   ]
  },
  {
   "cell_type": "code",
   "execution_count": 90,
   "id": "ca98b9a6-014a-4b11-bebc-d8b720960e41",
   "metadata": {},
   "outputs": [],
   "source": [
    "violent = df.loc[df[\"label\"] == VIOLENT]\n",
    "nonviolent = df.loc[df[\"label\"] == NONVIOLENT]\n",
    "violent_patched = violent.sample(nonviolent.shape[0],random_state=0)"
   ]
  },
  {
   "cell_type": "code",
   "execution_count": 91,
   "id": "77e1125b-f51c-4d9a-9e38-0e524b6ccb94",
   "metadata": {},
   "outputs": [
    {
     "data": {
      "text/plain": [
       "label\n",
       "violent        3028\n",
       "non-violent    3028\n",
       "Name: count, dtype: int64"
      ]
     },
     "execution_count": 91,
     "metadata": {},
     "output_type": "execute_result"
    }
   ],
   "source": [
    "#balanced dataset\n",
    "bdf = pd.concat([violent_patched,nonviolent])\n",
    "bdf.label.value_counts()"
   ]
  },
  {
   "cell_type": "markdown",
   "id": "0ca88786-8316-499e-832f-32b3861a3a3e",
   "metadata": {},
   "source": [
    "Split into test and train data. "
   ]
  },
  {
   "cell_type": "code",
   "execution_count": 116,
   "id": "0e51ad0c-4c56-4bc8-bdcc-859904ab3f63",
   "metadata": {},
   "outputs": [],
   "source": [
    "X_train, X_test, y_train, y_test =\\\n",
    "train_test_split(df.loc[:,[\"feature\"]],df[\"label\"], test_size= 0.3, random_state= 1)"
   ]
  },
  {
   "cell_type": "code",
   "execution_count": null,
   "id": "0bfae698-5320-48ff-b52c-0b48277c24ce",
   "metadata": {},
   "outputs": [],
   "source": []
  },
  {
   "cell_type": "markdown",
   "id": "49f4a67c-2990-41ac-8d8f-c0bbde8e0e81",
   "metadata": {},
   "source": [
    "Define pipelines, \n",
    "bdf is balanced dataset"
   ]
  },
  {
   "cell_type": "code",
   "execution_count": 117,
   "id": "cbdd0bc9-1704-4578-a7d8-c8c726e88c33",
   "metadata": {},
   "outputs": [],
   "source": [
    "# numeric_features = [\"length\", \"punct\"]\n",
    "categorical_features = [\"feature\"]\n",
    "\n",
    "# numeric_transformer = Pipeline(\n",
    "#     steps=[(\"scaler\", StandardScaler())]\n",
    "# )\n",
    "\n",
    "categorical_transformer = Pipeline(\n",
    "    steps=[\n",
    "        (\"squeez\", FunctionTransformer(lambda x: x.squeeze())), # make sure you pass a series\n",
    "        (\"tfidf\",TfidfVectorizer())\n",
    "    ]\n",
    ")\n",
    "\n",
    "preprocessor = ColumnTransformer(\n",
    "    transformers=[\n",
    "        # (\"num\", numeric_transformer, numeric_features),\n",
    "        (\"cat\", categorical_transformer, categorical_features)\n",
    "    ]\n",
    ")\n",
    "\n",
    "classifierRF = Pipeline(\n",
    "    [\n",
    "        (\"preprocessor\",preprocessor),\n",
    "        (\"classifier\",RandomForestClassifier(n_estimators=100,random_state=0))\n",
    "    ]\n",
    ")\n",
    "\n",
    "classifierSVC = Pipeline(\n",
    "    [\n",
    "        (\"preprocessor\",preprocessor),\n",
    "        (\"svc\",svm.SVC(random_state=0))\n",
    "    ]\n",
    ")\n"
   ]
  },
  {
   "cell_type": "code",
   "execution_count": 123,
   "id": "d16510d5-c5cf-4441-ac92-b3b480833e25",
   "metadata": {},
   "outputs": [],
   "source": [
    "param_grid_svc = {\n",
    "    \"svc__C\": [1, 10, 100],\n",
    "    \"svc__kernel\": ['linear', 'rbf', 'sigmoid'],\n",
    "    \"svc__gamma\": [\"auto\",\"scale\"]\n",
    "}\n",
    "best_svc = GridSearchCV(classifierSVC, param_grid_svc,n_jobs=8,cv=5,scoring=make_scorer(precision_score,pos_label=VIOLENT,zero_division=\"warn\"))"
   ]
  },
  {
   "cell_type": "code",
   "execution_count": 65,
   "id": "094e9230-fb6f-4ff5-97cf-9cf5469a2a1b",
   "metadata": {},
   "outputs": [
    {
     "data": {
      "text/html": [
       "<div>\n",
       "<style scoped>\n",
       "    .dataframe tbody tr th:only-of-type {\n",
       "        vertical-align: middle;\n",
       "    }\n",
       "\n",
       "    .dataframe tbody tr th {\n",
       "        vertical-align: top;\n",
       "    }\n",
       "\n",
       "    .dataframe thead th {\n",
       "        text-align: right;\n",
       "    }\n",
       "</style>\n",
       "<table border=\"1\" class=\"dataframe\">\n",
       "  <thead>\n",
       "    <tr style=\"text-align: right;\">\n",
       "      <th></th>\n",
       "      <th>feature</th>\n",
       "    </tr>\n",
       "  </thead>\n",
       "  <tbody>\n",
       "    <tr>\n",
       "      <th>5964</th>\n",
       "      <td>A rey muerto, rey puesto.</td>\n",
       "    </tr>\n",
       "    <tr>\n",
       "      <th>5377</th>\n",
       "      <td>Un caballero se avergüenza de que sus palabras...</td>\n",
       "    </tr>\n",
       "    <tr>\n",
       "      <th>4664</th>\n",
       "      <td>La vida es como un arca inmensa llena de posib...</td>\n",
       "    </tr>\n",
       "    <tr>\n",
       "      <th>7970</th>\n",
       "      <td>@InesArrimadas Ahh pero montapollos aún no ha ...</td>\n",
       "    </tr>\n",
       "    <tr>\n",
       "      <th>5390</th>\n",
       "      <td>Las falsedades no sólo se oponen a la verdad, ...</td>\n",
       "    </tr>\n",
       "    <tr>\n",
       "      <th>...</th>\n",
       "      <td>...</td>\n",
       "    </tr>\n",
       "    <tr>\n",
       "      <th>5297</th>\n",
       "      <td>La razón me dice que Dios existe, pero también...</td>\n",
       "    </tr>\n",
       "    <tr>\n",
       "      <th>3630</th>\n",
       "      <td>Mañana es una excusa maravillosa, ¿No crees?</td>\n",
       "    </tr>\n",
       "    <tr>\n",
       "      <th>10030</th>\n",
       "      <td>@unworthyunicor2 @michiki_ta No con cualquier ...</td>\n",
       "    </tr>\n",
       "    <tr>\n",
       "      <th>10584</th>\n",
       "      <td>@LaFallaras Si eso se les da de puta madre que...</td>\n",
       "    </tr>\n",
       "    <tr>\n",
       "      <th>2537</th>\n",
       "      <td>El juicio en la mujer es una cualidad tan rara...</td>\n",
       "    </tr>\n",
       "  </tbody>\n",
       "</table>\n",
       "<p>4239 rows × 1 columns</p>\n",
       "</div>"
      ],
      "text/plain": [
       "                                                 feature\n",
       "5964                           A rey muerto, rey puesto.\n",
       "5377   Un caballero se avergüenza de que sus palabras...\n",
       "4664   La vida es como un arca inmensa llena de posib...\n",
       "7970   @InesArrimadas Ahh pero montapollos aún no ha ...\n",
       "5390   Las falsedades no sólo se oponen a la verdad, ...\n",
       "...                                                  ...\n",
       "5297   La razón me dice que Dios existe, pero también...\n",
       "3630        Mañana es una excusa maravillosa, ¿No crees?\n",
       "10030  @unworthyunicor2 @michiki_ta No con cualquier ...\n",
       "10584  @LaFallaras Si eso se les da de puta madre que...\n",
       "2537   El juicio en la mujer es una cualidad tan rara...\n",
       "\n",
       "[4239 rows x 1 columns]"
      ]
     },
     "execution_count": 65,
     "metadata": {},
     "output_type": "execute_result"
    }
   ],
   "source": []
  },
  {
   "cell_type": "code",
   "execution_count": null,
   "id": "50eb9713-1882-4a85-a201-46b6fa8d40a0",
   "metadata": {},
   "outputs": [],
   "source": [
    "best_svc.fit(X_train, y_train)\n",
    "print(\"using precission as the Best parameter to evaluate on (CV score=%0.3f):\" % best_svc.best_score_)\n",
    "print(best_svc.best_params_)"
   ]
  },
  {
   "cell_type": "code",
   "execution_count": null,
   "id": "5fd7bcec-dfe9-4a85-8d3f-3a5e420b8963",
   "metadata": {},
   "outputs": [],
   "source": [
    "y_pred_svc = best_svc.predict(X_test)\n",
    "y_pred_svc_train = best_svc.predict(X_train)\n",
    "report_svc_train = classification_report(y_train, y_pred_svc_train)\n",
    "print(report_svc_train)\n",
    "report_svc = classification_report(y_test, y_pred_svc)\n",
    "print(report_svc)"
   ]
  },
  {
   "cell_type": "code",
   "execution_count": 121,
   "id": "cab863b0-2232-48df-bf6e-044172f036a2",
   "metadata": {},
   "outputs": [
    {
     "data": {
      "text/plain": [
       "array([[2038,   77],\n",
       "       [   2, 6084]])"
      ]
     },
     "execution_count": 121,
     "metadata": {},
     "output_type": "execute_result"
    }
   ],
   "source": [
    "confusion_matrix(y_train, y_pred_svc_train)"
   ]
  },
  {
   "cell_type": "code",
   "execution_count": 122,
   "id": "38652e3c-78b9-4053-bc73-1a27e189e9ed",
   "metadata": {},
   "outputs": [
    {
     "name": "stdout",
     "output_type": "stream",
     "text": [
      "array([[ 650,  263],\n",
      "       [  60, 2543]])\n"
     ]
    }
   ],
   "source": [
    "pprint(confusion_matrix(y_test, y_pred_svc))"
   ]
  }
 ],
 "metadata": {
  "kernelspec": {
   "display_name": "Python 3 (ipykernel)",
   "language": "python",
   "name": "python3"
  },
  "language_info": {
   "codemirror_mode": {
    "name": "ipython",
    "version": 3
   },
   "file_extension": ".py",
   "mimetype": "text/x-python",
   "name": "python",
   "nbconvert_exporter": "python",
   "pygments_lexer": "ipython3",
   "version": "3.9.16"
  }
 },
 "nbformat": 4,
 "nbformat_minor": 5
}
