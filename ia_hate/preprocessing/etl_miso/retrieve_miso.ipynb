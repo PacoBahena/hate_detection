{
 "cells": [
  {
   "cell_type": "code",
   "execution_count": 1,
   "id": "2424130b-c07b-418a-984d-603b8f4db7b2",
   "metadata": {},
   "outputs": [],
   "source": [
    "import os\n",
    "import sys\n",
    "import pandas as pd\n",
    "import numpy as np\n",
    "import requests\n",
    "import json\n",
    "from pprint import pprint"
   ]
  },
  {
   "cell_type": "code",
   "execution_count": 3,
   "id": "5c49729e-b2d7-4efe-97ef-7b9261a3d0c8",
   "metadata": {},
   "outputs": [
    {
     "data": {
      "text/plain": [
       "'/Users/fbahena/Desktop/paco_growth/nlp_course/ia_hate/preprocessing/etl_miso'"
      ]
     },
     "execution_count": 3,
     "metadata": {},
     "output_type": "execute_result"
    }
   ],
   "source": [
    "os.getcwd()"
   ]
  },
  {
   "cell_type": "code",
   "execution_count": 6,
   "id": "eed6bd2b-45b9-43e2-aabf-d274a984cd95",
   "metadata": {},
   "outputs": [
    {
     "data": {
      "text/plain": [
       "['CorpushaterNet.zip',\n",
       " '.DS_Store',\n",
       " 'CorpusRNN.zip',\n",
       " 'misocorpus.zip',\n",
       " 'miso-seal.txt',\n",
       " 'README.md',\n",
       " 'raw_corpus_2M.zip',\n",
       " '__MACOSX',\n",
       " 'miso_retrieval',\n",
       " 'miso-ddss.txt',\n",
       " 'misocorpus.txt',\n",
       " 'miso-varw.txt']"
      ]
     },
     "execution_count": 6,
     "metadata": {},
     "output_type": "execute_result"
    }
   ],
   "source": [
    "os.listdir(\"../../data\")"
   ]
  },
  {
   "cell_type": "code",
   "execution_count": 2,
   "id": "8ad7b2a5-1908-4556-978f-845fc4707971",
   "metadata": {},
   "outputs": [
    {
     "data": {
      "text/html": [
       "<div>\n",
       "<style scoped>\n",
       "    .dataframe tbody tr th:only-of-type {\n",
       "        vertical-align: middle;\n",
       "    }\n",
       "\n",
       "    .dataframe tbody tr th {\n",
       "        vertical-align: top;\n",
       "    }\n",
       "\n",
       "    .dataframe thead th {\n",
       "        text-align: right;\n",
       "    }\n",
       "</style>\n",
       "<table border=\"1\" class=\"dataframe\">\n",
       "  <thead>\n",
       "    <tr style=\"text-align: right;\">\n",
       "      <th></th>\n",
       "      <th>Twitter ID</th>\n",
       "    </tr>\n",
       "  </thead>\n",
       "  <tbody>\n",
       "    <tr>\n",
       "      <th>0</th>\n",
       "      <td>1207093177225793536</td>\n",
       "    </tr>\n",
       "    <tr>\n",
       "      <th>1</th>\n",
       "      <td>1206528092837163009</td>\n",
       "    </tr>\n",
       "    <tr>\n",
       "      <th>2</th>\n",
       "      <td>1207765486433439748</td>\n",
       "    </tr>\n",
       "    <tr>\n",
       "      <th>3</th>\n",
       "      <td>1205401211429687296</td>\n",
       "    </tr>\n",
       "    <tr>\n",
       "      <th>4</th>\n",
       "      <td>1205400804703780865</td>\n",
       "    </tr>\n",
       "  </tbody>\n",
       "</table>\n",
       "</div>"
      ],
      "text/plain": [
       "            Twitter ID\n",
       "0  1207093177225793536\n",
       "1  1206528092837163009\n",
       "2  1207765486433439748\n",
       "3  1205401211429687296\n",
       "4  1205400804703780865"
      ]
     },
     "execution_count": 2,
     "metadata": {},
     "output_type": "execute_result"
    }
   ],
   "source": [
    "data_dir = \"../../data\"\n",
    "misodf = pd.read_csv(os.path.join(data_dir,\"misocorpus.txt\"))\n",
    "misodf.head()"
   ]
  },
  {
   "cell_type": "code",
   "execution_count": 3,
   "id": "bf602762-e2a6-452e-9c8f-ea48578be0bd",
   "metadata": {},
   "outputs": [
    {
     "data": {
      "text/plain": [
       "(6680, 1)"
      ]
     },
     "execution_count": 3,
     "metadata": {},
     "output_type": "execute_result"
    }
   ],
   "source": [
    "misodf.shape"
   ]
  },
  {
   "cell_type": "code",
   "execution_count": 4,
   "id": "29a4044a-8c89-4b6c-a293-f5d0753631b5",
   "metadata": {},
   "outputs": [
    {
     "name": "stderr",
     "output_type": "stream",
     "text": [
      "/Users/fbahena/.pyenv/versions/3.9.16/envs/nlpenv/lib/python3.9/site-packages/numpy/core/fromnumeric.py:59: FutureWarning: 'Series.swapaxes' is deprecated and will be removed in a future version. Please use 'Series.transpose' instead.\n",
      "  return bound(*args, **kwds)\n"
     ]
    }
   ],
   "source": [
    "# split dataset into 5 chunks \n",
    "\n",
    "chunks = [np.array_split(chunk.iloc[:], 14) for chunk in np.array_split(misodf.iloc[:,0], 5)]"
   ]
  },
  {
   "cell_type": "code",
   "execution_count": 5,
   "id": "8245f5f6-552f-4ad0-827e-8a56dd520c8d",
   "metadata": {},
   "outputs": [
    {
     "data": {
      "text/plain": [
       "14"
      ]
     },
     "execution_count": 5,
     "metadata": {},
     "output_type": "execute_result"
    }
   ],
   "source": [
    "len(chunks[0])"
   ]
  },
  {
   "cell_type": "code",
   "execution_count": 6,
   "id": "977ef018-7987-45af-99a9-c9c6dcd5dd40",
   "metadata": {},
   "outputs": [],
   "source": [
    "# set twitter token\n",
    "with open(os.path.join(data_dir,\"twitter_api_bearer_token.txt\"), \"r\") as f:\n",
    "    bearer_token = f.readline()[:-1]\n"
   ]
  },
  {
   "cell_type": "code",
   "execution_count": null,
   "id": "3b60ccf1-597e-49a6-be4c-21af54f4f47c",
   "metadata": {},
   "outputs": [],
   "source": []
  },
  {
   "cell_type": "code",
   "execution_count": 7,
   "id": "24d78fb7-9690-4486-be68-b8a8d91afdf4",
   "metadata": {},
   "outputs": [],
   "source": [
    "def bearer_oauth(r):\n",
    "    \"\"\"\n",
    "    Method required by bearer token authentication.\n",
    "    \"\"\"\n",
    "\n",
    "    r.headers[\"Authorization\"] = f\"Bearer {bearer_token}\"\n",
    "    r.headers[\"User-Agent\"] = \"v2TweetLookupPython\"\n",
    "    return r\n",
    "\n",
    "def create_url(ids):\n",
    "    #convert to string and then join with comma.\n",
    "    formatted_ids = \"ids=\"+\",\".join(list(map(lambda x: str(x),ids)))\n",
    "    # You can adjust ids to include a single Tweets.\n",
    "    # Or you can add to up to 100 comma-separated IDs\n",
    "    url = \"https://api.twitter.com/2/tweets?{}\".format(formatted_ids)\n",
    "    return url\n",
    "\n",
    "def get_data(url):\n",
    "    response = requests.request(\"GET\", url, auth=bearer_oauth)\n",
    "    print(response.status_code)\n",
    "    if response.status_code != 200:\n",
    "        raise Exception(\n",
    "            \"Request returned an error: {} {}\".format(\n",
    "                response.status_code, response.text\n",
    "            )\n",
    "        )\n",
    "    return response.json()"
   ]
  },
  {
   "cell_type": "code",
   "execution_count": 9,
   "id": "49c0133b-e7a2-4d18-8b25-5155aa213ac2",
   "metadata": {},
   "outputs": [],
   "source": [
    "url = create_url(chunks[0][:20])\n"
   ]
  },
  {
   "cell_type": "code",
   "execution_count": 114,
   "id": "6be81e9a-d557-4494-a0b8-b7031ceac8b5",
   "metadata": {},
   "outputs": [
    {
     "data": {
      "text/html": [
       "<div>\n",
       "<style scoped>\n",
       "    .dataframe tbody tr th:only-of-type {\n",
       "        vertical-align: middle;\n",
       "    }\n",
       "\n",
       "    .dataframe tbody tr th {\n",
       "        vertical-align: top;\n",
       "    }\n",
       "\n",
       "    .dataframe thead th {\n",
       "        text-align: right;\n",
       "    }\n",
       "</style>\n",
       "<table border=\"1\" class=\"dataframe\">\n",
       "  <thead>\n",
       "    <tr style=\"text-align: right;\">\n",
       "      <th></th>\n",
       "      <th>id</th>\n",
       "      <th>text</th>\n",
       "    </tr>\n",
       "  </thead>\n",
       "  <tbody>\n",
       "    <tr>\n",
       "      <th>0</th>\n",
       "      <td>1206528092837163009</td>\n",
       "      <td>Voy hacer tutoriales para enseñarle a las que ...</td>\n",
       "    </tr>\n",
       "    <tr>\n",
       "      <th>1</th>\n",
       "      <td>1207765486433439748</td>\n",
       "      <td>@LaFallaras Usted es española, pero que payasa!!</td>\n",
       "    </tr>\n",
       "    <tr>\n",
       "      <th>2</th>\n",
       "      <td>1205400804703780865</td>\n",
       "      <td>@rouco64 @Delamasa123 Estos cobardes jueces pr...</td>\n",
       "    </tr>\n",
       "    <tr>\n",
       "      <th>3</th>\n",
       "      <td>1206657958014308354</td>\n",
       "      <td>@LaFallaras Quien te ha dicho a ti que no pued...</td>\n",
       "    </tr>\n",
       "    <tr>\n",
       "      <th>4</th>\n",
       "      <td>1205810735231700992</td>\n",
       "      <td>@GretaThunberg Que te calles ya niñata y aprov...</td>\n",
       "    </tr>\n",
       "    <tr>\n",
       "      <th>5</th>\n",
       "      <td>1206646560618094594</td>\n",
       "      <td>@LaFallaras Payasa háztelo mirar</td>\n",
       "    </tr>\n",
       "    <tr>\n",
       "      <th>6</th>\n",
       "      <td>1205612670868770821</td>\n",
       "      <td>@LaFallaras Lo dejamos en perra en celo</td>\n",
       "    </tr>\n",
       "    <tr>\n",
       "      <th>7</th>\n",
       "      <td>1206306793699323906</td>\n",
       "      <td>Es vergonzosa la sentencia a los jugadores del...</td>\n",
       "    </tr>\n",
       "    <tr>\n",
       "      <th>8</th>\n",
       "      <td>1209067992845312000</td>\n",
       "      <td>@reyreysincorona Así son estas feminazis. Quie...</td>\n",
       "    </tr>\n",
       "    <tr>\n",
       "      <th>9</th>\n",
       "      <td>1209934659611746310</td>\n",
       "      <td>@LaFallaras Lávate primero cacho cerda... y qu...</td>\n",
       "    </tr>\n",
       "    <tr>\n",
       "      <th>10</th>\n",
       "      <td>1202074832726351873</td>\n",
       "      <td>No entiendo el papel de los gays defendiendo e...</td>\n",
       "    </tr>\n",
       "  </tbody>\n",
       "</table>\n",
       "</div>"
      ],
      "text/plain": [
       "                     id                                               text\n",
       "0   1206528092837163009  Voy hacer tutoriales para enseñarle a las que ...\n",
       "1   1207765486433439748   @LaFallaras Usted es española, pero que payasa!!\n",
       "2   1205400804703780865  @rouco64 @Delamasa123 Estos cobardes jueces pr...\n",
       "3   1206657958014308354  @LaFallaras Quien te ha dicho a ti que no pued...\n",
       "4   1205810735231700992  @GretaThunberg Que te calles ya niñata y aprov...\n",
       "5   1206646560618094594                   @LaFallaras Payasa háztelo mirar\n",
       "6   1205612670868770821            @LaFallaras Lo dejamos en perra en celo\n",
       "7   1206306793699323906  Es vergonzosa la sentencia a los jugadores del...\n",
       "8   1209067992845312000  @reyreysincorona Así son estas feminazis. Quie...\n",
       "9   1209934659611746310  @LaFallaras Lávate primero cacho cerda... y qu...\n",
       "10  1202074832726351873  No entiendo el papel de los gays defendiendo e..."
      ]
     },
     "execution_count": 114,
     "metadata": {},
     "output_type": "execute_result"
    }
   ],
   "source": [
    "# res= get_data(url)\n",
    "resu = [{\"id\":x[\"id\"],\"text\":x[\"text\"]} for x in res[\"data\"]]\n",
    "pd.DataFrame(resu)"
   ]
  },
  {
   "cell_type": "code",
   "execution_count": 13,
   "id": "aab00994-40e6-44aa-901e-0830a846f1cc",
   "metadata": {},
   "outputs": [
    {
     "data": {
      "text/plain": [
       "96     1207130751667494912\n",
       "97     1207130248300711936\n",
       "98     1208808202948808704\n",
       "99     1204255007060705282\n",
       "100    1205150270931509248\n",
       "              ...         \n",
       "187    1204566184596844544\n",
       "188    1204484507505766401\n",
       "189    1204473552847753217\n",
       "190    1204231317132591105\n",
       "191    1204386729295327232\n",
       "Name: Twitter ID, Length: 96, dtype: int64"
      ]
     },
     "execution_count": 13,
     "metadata": {},
     "output_type": "execute_result"
    }
   ],
   "source": [
    "chunks[0][1]"
   ]
  },
  {
   "cell_type": "markdown",
   "id": "11365020-3242-49db-8c32-b2854c8f3121",
   "metadata": {},
   "source": [
    "### 1st section"
   ]
  },
  {
   "cell_type": "code",
   "execution_count": 10,
   "id": "c32e787e-b904-4c6c-bfb9-36f439d29b4b",
   "metadata": {},
   "outputs": [],
   "source": [
    "len(chunks[0])\n",
    "section_data = []"
   ]
  },
  {
   "cell_type": "code",
   "execution_count": 128,
   "id": "5d0d51ab-5e34-4cfd-aab9-9b520dba4989",
   "metadata": {},
   "outputs": [
    {
     "name": "stdout",
     "output_type": "stream",
     "text": [
      "processing subchunk 0\n",
      "200\n",
      "processing subchunk 1\n",
      "200\n",
      "processing subchunk 2\n",
      "200\n",
      "processing subchunk 3\n",
      "200\n",
      "processing subchunk 4\n",
      "200\n",
      "processing subchunk 5\n",
      "200\n",
      "processing subchunk 6\n",
      "200\n",
      "processing subchunk 7\n",
      "200\n",
      "processing subchunk 8\n",
      "200\n",
      "processing subchunk 9\n",
      "200\n",
      "processing subchunk 10\n",
      "200\n",
      "processing subchunk 11\n",
      "200\n",
      "processing subchunk 12\n",
      "200\n",
      "processing subchunk 13\n",
      "200\n"
     ]
    }
   ],
   "source": [
    "\n",
    "for idx,chunk in enumerate(chunks[0]):\n",
    "    print(f\"processing subchunk {idx}\")\n",
    "    url = create_url(chunk.tolist())\n",
    "    res= get_data(url)\n",
    "    resu = [{\"id\":x[\"id\"],\"text\":x[\"text\"]} for x in res[\"data\"]]\n",
    "    section_data.append(resu)"
   ]
  },
  {
   "cell_type": "code",
   "execution_count": 132,
   "id": "d78e1026-22d8-4a03-8674-a4a6a126bc2a",
   "metadata": {},
   "outputs": [
    {
     "data": {
      "text/plain": [
       "14"
      ]
     },
     "execution_count": 132,
     "metadata": {},
     "output_type": "execute_result"
    }
   ],
   "source": [
    "len(section_data)"
   ]
  },
  {
   "cell_type": "code",
   "execution_count": 136,
   "id": "7b21f433-20d8-4c39-aae7-ff5db072755a",
   "metadata": {},
   "outputs": [],
   "source": [
    "flat = [item for row in section_data for item in row]\n",
    "df_section1 = pd.DataFrame(flat)"
   ]
  },
  {
   "cell_type": "code",
   "execution_count": 137,
   "id": "9de30ebd-8f87-44a9-8680-29836a680a57",
   "metadata": {},
   "outputs": [],
   "source": [
    "# df_section1.to_csv(\"misocorpus_1.csv\")"
   ]
  },
  {
   "cell_type": "markdown",
   "id": "316af11b-80c2-466b-a68e-375507521d4a",
   "metadata": {},
   "source": [
    "Section 2 "
   ]
  },
  {
   "cell_type": "code",
   "execution_count": 141,
   "id": "2a4d7e16-c224-4537-a71b-4927cc755cba",
   "metadata": {},
   "outputs": [],
   "source": [
    "len(chunks[1])\n",
    "section_data = []"
   ]
  },
  {
   "cell_type": "code",
   "execution_count": 142,
   "id": "4ce60570-d4a3-4067-aefb-9c971a922d97",
   "metadata": {},
   "outputs": [
    {
     "name": "stdout",
     "output_type": "stream",
     "text": [
      "processing subchunk 0\n",
      "200\n",
      "processing subchunk 1\n",
      "200\n",
      "processing subchunk 2\n",
      "200\n",
      "processing subchunk 3\n",
      "200\n",
      "processing subchunk 4\n",
      "200\n",
      "processing subchunk 5\n",
      "200\n",
      "processing subchunk 6\n",
      "200\n",
      "processing subchunk 7\n",
      "200\n",
      "processing subchunk 8\n",
      "200\n",
      "processing subchunk 9\n",
      "200\n",
      "processing subchunk 10\n",
      "200\n",
      "processing subchunk 11\n",
      "200\n",
      "processing subchunk 12\n",
      "200\n",
      "processing subchunk 13\n",
      "200\n"
     ]
    }
   ],
   "source": [
    "for idx,chunk in enumerate(chunks[1]):\n",
    "    print(f\"processing subchunk {idx}\")\n",
    "    url = create_url(chunk.tolist())\n",
    "    res= get_data(url)\n",
    "    resu = [{\"id\":x[\"id\"],\"text\":x[\"text\"]} for x in res[\"data\"]]\n",
    "    section_data.append(resu)"
   ]
  },
  {
   "cell_type": "code",
   "execution_count": 143,
   "id": "6f8e1fd1-0088-4f47-8298-b61974f76e44",
   "metadata": {},
   "outputs": [],
   "source": [
    "flat = [item for row in section_data for item in row]\n",
    "df_section2 = pd.DataFrame(flat)"
   ]
  },
  {
   "cell_type": "code",
   "execution_count": 144,
   "id": "3c6530a6-9385-4fad-bfa1-faa9ea5bee8f",
   "metadata": {},
   "outputs": [
    {
     "data": {
      "text/plain": [
       "(867, 2)"
      ]
     },
     "execution_count": 144,
     "metadata": {},
     "output_type": "execute_result"
    }
   ],
   "source": [
    "df_section2.shape"
   ]
  },
  {
   "cell_type": "code",
   "execution_count": null,
   "id": "accc5beb-b43e-44a5-a630-50b696f12396",
   "metadata": {},
   "outputs": [],
   "source": [
    "df_section2.to_csv(\"misocorpus_2.csv\")"
   ]
  },
  {
   "cell_type": "markdown",
   "id": "ba6911be-fbb4-432a-b03c-6d18e3a48f8f",
   "metadata": {},
   "source": [
    "#### 3 section"
   ]
  },
  {
   "cell_type": "code",
   "execution_count": 15,
   "id": "0e1c3352-ef43-48f6-be9f-816bb32c6566",
   "metadata": {},
   "outputs": [],
   "source": [
    "len(chunks[2])\n",
    "section_data = []"
   ]
  },
  {
   "cell_type": "code",
   "execution_count": 16,
   "id": "e64a196f-5014-4b2b-9852-a8a09b2c8bbc",
   "metadata": {},
   "outputs": [
    {
     "name": "stdout",
     "output_type": "stream",
     "text": [
      "processing subchunk 0\n",
      "200\n",
      "processing subchunk 1\n",
      "200\n",
      "processing subchunk 2\n",
      "200\n",
      "processing subchunk 3\n",
      "200\n",
      "processing subchunk 4\n",
      "200\n",
      "processing subchunk 5\n",
      "200\n",
      "processing subchunk 6\n",
      "200\n",
      "processing subchunk 7\n",
      "200\n",
      "processing subchunk 8\n",
      "200\n",
      "processing subchunk 9\n",
      "200\n",
      "processing subchunk 10\n",
      "200\n",
      "processing subchunk 11\n",
      "200\n",
      "processing subchunk 12\n",
      "200\n",
      "processing subchunk 13\n",
      "200\n"
     ]
    }
   ],
   "source": [
    "for idx,chunk in enumerate(chunks[2]):\n",
    "    print(f\"processing subchunk {idx}\")\n",
    "    url = create_url(chunk.tolist())\n",
    "    res= get_data(url)\n",
    "    resu = [{\"id\":x[\"id\"],\"text\":x[\"text\"]} for x in res[\"data\"]]\n",
    "    section_data.append(resu)"
   ]
  },
  {
   "cell_type": "code",
   "execution_count": 17,
   "id": "1bb20e8e-2f40-4b9e-b102-22f5b7b1f33f",
   "metadata": {},
   "outputs": [],
   "source": [
    "flat = [item for row in section_data for item in row]\n",
    "df_section = pd.DataFrame(flat)"
   ]
  },
  {
   "cell_type": "code",
   "execution_count": 19,
   "id": "6edcc4fd-b7bf-490e-bcb9-6ea36f4c8dc5",
   "metadata": {},
   "outputs": [],
   "source": [
    "df_section.to_csv(\"misocorpus_3.csv\")"
   ]
  },
  {
   "cell_type": "markdown",
   "id": "7dbdf044-45a3-442e-a618-8727434d5568",
   "metadata": {},
   "source": [
    "section 4"
   ]
  },
  {
   "cell_type": "code",
   "execution_count": 30,
   "id": "45b83d3b-d448-4258-87d4-af524c14226c",
   "metadata": {},
   "outputs": [],
   "source": [
    "len(chunks[3])\n",
    "section_data = []"
   ]
  },
  {
   "cell_type": "code",
   "execution_count": 31,
   "id": "80cded98-ac9a-4e98-ac38-5424af19867d",
   "metadata": {},
   "outputs": [
    {
     "name": "stdout",
     "output_type": "stream",
     "text": [
      "processing subchunk 0\n",
      "200\n",
      "processing subchunk 1\n",
      "200\n",
      "processing subchunk 2\n",
      "200\n",
      "processing subchunk 3\n",
      "200\n",
      "processing subchunk 4\n",
      "200\n",
      "processing subchunk 5\n",
      "200\n",
      "processing subchunk 6\n",
      "200\n",
      "processing subchunk 7\n",
      "200\n",
      "processing subchunk 8\n",
      "200\n",
      "processing subchunk 9\n",
      "200\n",
      "processing subchunk 10\n",
      "200\n",
      "processing subchunk 11\n",
      "200\n",
      "processing subchunk 12\n",
      "200\n",
      "processing subchunk 13\n",
      "200\n"
     ]
    }
   ],
   "source": [
    "for idx,chunk in enumerate(chunks[3]):\n",
    "    print(f\"processing subchunk {idx}\")\n",
    "    url = create_url(chunk.tolist())\n",
    "    res= get_data(url)\n",
    "    resu = [{\"id\":x[\"id\"],\"text\":x[\"text\"]} for x in res[\"data\"]]\n",
    "    section_data.append(resu)"
   ]
  },
  {
   "cell_type": "code",
   "execution_count": 32,
   "id": "e74d1119-daae-4da9-abe2-9c4831613e05",
   "metadata": {},
   "outputs": [],
   "source": [
    "flat = [item for row in section_data for item in row]\n",
    "df_section = pd.DataFrame(flat)"
   ]
  },
  {
   "cell_type": "code",
   "execution_count": 33,
   "id": "3f64e189-8c19-4e13-b9c9-1c43be695710",
   "metadata": {},
   "outputs": [],
   "source": [
    "df_section.to_csv(\"misocorpus_4.csv\")"
   ]
  },
  {
   "cell_type": "code",
   "execution_count": 37,
   "id": "d4687d79-598c-47d1-83d5-0b29d411c822",
   "metadata": {},
   "outputs": [
    {
     "data": {
      "text/html": [
       "<div>\n",
       "<style scoped>\n",
       "    .dataframe tbody tr th:only-of-type {\n",
       "        vertical-align: middle;\n",
       "    }\n",
       "\n",
       "    .dataframe tbody tr th {\n",
       "        vertical-align: top;\n",
       "    }\n",
       "\n",
       "    .dataframe thead th {\n",
       "        text-align: right;\n",
       "    }\n",
       "</style>\n",
       "<table border=\"1\" class=\"dataframe\">\n",
       "  <thead>\n",
       "    <tr style=\"text-align: right;\">\n",
       "      <th></th>\n",
       "      <th>id</th>\n",
       "      <th>text</th>\n",
       "    </tr>\n",
       "  </thead>\n",
       "  <tbody>\n",
       "    <tr>\n",
       "      <th>0</th>\n",
       "      <td>1208567700525584386</td>\n",
       "      <td>@edufeiok Bien que te gusta decir clientA y si...</td>\n",
       "    </tr>\n",
       "    <tr>\n",
       "      <th>1</th>\n",
       "      <td>1208567508095131648</td>\n",
       "      <td>@LeonorBohme Aquí queda más que claro que el f...</td>\n",
       "    </tr>\n",
       "    <tr>\n",
       "      <th>2</th>\n",
       "      <td>1208613007770697729</td>\n",
       "      <td>Te conocí este año, me gustabas mucho, pero er...</td>\n",
       "    </tr>\n",
       "    <tr>\n",
       "      <th>3</th>\n",
       "      <td>1208627871406862336</td>\n",
       "      <td>@sofiabenuzio @l123737 @vixiglesias Es una ram...</td>\n",
       "    </tr>\n",
       "    <tr>\n",
       "      <th>4</th>\n",
       "      <td>1208296054514487297</td>\n",
       "      <td>@Dra_Tanuki @guillemclua Además no era una dem...</td>\n",
       "    </tr>\n",
       "  </tbody>\n",
       "</table>\n",
       "</div>"
      ],
      "text/plain": [
       "                    id                                               text\n",
       "0  1208567700525584386  @edufeiok Bien que te gusta decir clientA y si...\n",
       "1  1208567508095131648  @LeonorBohme Aquí queda más que claro que el f...\n",
       "2  1208613007770697729  Te conocí este año, me gustabas mucho, pero er...\n",
       "3  1208627871406862336  @sofiabenuzio @l123737 @vixiglesias Es una ram...\n",
       "4  1208296054514487297  @Dra_Tanuki @guillemclua Además no era una dem..."
      ]
     },
     "execution_count": 37,
     "metadata": {},
     "output_type": "execute_result"
    }
   ],
   "source": [
    "df_section.head()"
   ]
  },
  {
   "cell_type": "markdown",
   "id": "c8e5cb53-b54b-4bcc-b8b4-f61fb11f6d7a",
   "metadata": {},
   "source": [
    "#### section 5"
   ]
  },
  {
   "cell_type": "code",
   "execution_count": 39,
   "id": "c9a6ed21-7a84-412e-980f-0738c9238690",
   "metadata": {},
   "outputs": [],
   "source": [
    "len(chunks[4])\n",
    "section_data = []"
   ]
  },
  {
   "cell_type": "code",
   "execution_count": 40,
   "id": "93b55972-07ad-4ea4-b47a-b9fb250acc86",
   "metadata": {},
   "outputs": [
    {
     "name": "stdout",
     "output_type": "stream",
     "text": [
      "processing subchunk 0\n",
      "200\n",
      "processing subchunk 1\n",
      "200\n",
      "processing subchunk 2\n",
      "200\n",
      "processing subchunk 3\n",
      "200\n",
      "processing subchunk 4\n",
      "200\n",
      "processing subchunk 5\n",
      "200\n",
      "processing subchunk 6\n",
      "200\n",
      "processing subchunk 7\n",
      "200\n",
      "processing subchunk 8\n",
      "200\n",
      "processing subchunk 9\n",
      "200\n",
      "processing subchunk 10\n",
      "200\n",
      "processing subchunk 11\n",
      "200\n",
      "processing subchunk 12\n",
      "200\n",
      "processing subchunk 13\n",
      "200\n"
     ]
    }
   ],
   "source": [
    "for idx,chunk in enumerate(chunks[4]):\n",
    "    print(f\"processing subchunk {idx}\")\n",
    "    url = create_url(chunk.tolist())\n",
    "    res= get_data(url)\n",
    "    resu = [{\"id\":x[\"id\"],\"text\":x[\"text\"]} for x in res[\"data\"]]\n",
    "    section_data.append(resu)"
   ]
  },
  {
   "cell_type": "code",
   "execution_count": 41,
   "id": "aad28d83-9627-458a-ac5b-4ae4c64a4455",
   "metadata": {},
   "outputs": [],
   "source": [
    "flat = [item for row in section_data for item in row]\n",
    "df_section = pd.DataFrame(flat)"
   ]
  },
  {
   "cell_type": "code",
   "execution_count": 42,
   "id": "a3f8ab54-734b-44d3-a649-21e2ba27a9d6",
   "metadata": {},
   "outputs": [],
   "source": [
    "df_section.to_csv(\"misocorpus_5.csv\")"
   ]
  },
  {
   "cell_type": "code",
   "execution_count": 51,
   "id": "2d8c25e2-cfde-4c7b-8ac1-754bc5212850",
   "metadata": {},
   "outputs": [],
   "source": [
    "\n",
    "files = [x for x in os.listdir(\".\") if x.startswith(\"miso\")]\n"
   ]
  },
  {
   "cell_type": "code",
   "execution_count": 69,
   "id": "5abbaa89-707d-4dc2-a171-2b1239821cae",
   "metadata": {},
   "outputs": [
    {
     "data": {
      "text/plain": [
       "['misocorpus_1.csv',\n",
       " 'misocorpus_3.csv',\n",
       " 'misocorpus_2.csv',\n",
       " 'misocorpus_5.csv',\n",
       " 'misocorpus_4.csv']"
      ]
     },
     "execution_count": 69,
     "metadata": {},
     "output_type": "execute_result"
    }
   ],
   "source": [
    "files"
   ]
  },
  {
   "cell_type": "code",
   "execution_count": 56,
   "id": "244782f2-5b4c-4986-bc4f-73ccd288cccb",
   "metadata": {},
   "outputs": [],
   "source": [
    "df = pd.concat([pd.read_csv(file).iloc[:,1:] for file in files])"
   ]
  },
  {
   "cell_type": "code",
   "execution_count": 59,
   "id": "318bf43e-35ae-44c4-8140-f55791b04758",
   "metadata": {},
   "outputs": [],
   "source": [
    "df.to_csv(\"misocorpus_full.csv\",index=False)"
   ]
  },
  {
   "cell_type": "code",
   "execution_count": 63,
   "id": "808dedfd-1e84-4447-a557-c07fe174438b",
   "metadata": {},
   "outputs": [
    {
     "data": {
      "text/plain": [
       "(4684, 2)"
      ]
     },
     "execution_count": 63,
     "metadata": {},
     "output_type": "execute_result"
    }
   ],
   "source": [
    "df.shape"
   ]
  },
  {
   "cell_type": "code",
   "execution_count": 72,
   "id": "2e1f07dc-100f-4876-87b8-c37f45715d0c",
   "metadata": {},
   "outputs": [
    {
     "name": "stdout",
     "output_type": "stream",
     "text": [
      "misocorpus_1.csv\n",
      "(898, 3)\n",
      "misocorpus_3.csv\n",
      "(913, 3)\n",
      "misocorpus_2.csv\n",
      "(867, 3)\n",
      "misocorpus_5.csv\n",
      "(970, 3)\n",
      "misocorpus_4.csv\n",
      "(1036, 3)\n"
     ]
    },
    {
     "data": {
      "text/plain": [
       "4684"
      ]
     },
     "execution_count": 72,
     "metadata": {},
     "output_type": "execute_result"
    }
   ],
   "source": [
    "rows = 0\n",
    "for file in files:\n",
    "    print(file)\n",
    "    d = pd.read_csv(file)\n",
    "    print(d.shape)\n",
    "    rows += d.shape[0]\n",
    "rows"
   ]
  },
  {
   "cell_type": "code",
   "execution_count": 74,
   "id": "f91d2c28-b6d7-449f-b6f5-9b543884254d",
   "metadata": {},
   "outputs": [
    {
     "data": {
      "text/plain": [
       "(4684, 2)"
      ]
     },
     "execution_count": 74,
     "metadata": {},
     "output_type": "execute_result"
    }
   ],
   "source": [
    "df.shape"
   ]
  },
  {
   "cell_type": "markdown",
   "id": "5c69478d-4bd0-433b-9d8f-c40c036c93d3",
   "metadata": {},
   "source": [
    "Note that 4684 is less than the ids provided, it means tweets were deleted"
   ]
  },
  {
   "cell_type": "markdown",
   "id": "9b6299d8-ed10-45ca-b0b4-ae8b67d9e222",
   "metadata": {},
   "source": [
    "Now lets verify the 3 remaining databases,\n",
    "\n",
    "They should be contained in the full misocorpus ids one."
   ]
  },
  {
   "cell_type": "code",
   "execution_count": 76,
   "id": "5d7683ab-47f1-44a4-a3aa-a129c9cfd9e0",
   "metadata": {},
   "outputs": [
    {
     "data": {
      "text/html": [
       "<div>\n",
       "<style scoped>\n",
       "    .dataframe tbody tr th:only-of-type {\n",
       "        vertical-align: middle;\n",
       "    }\n",
       "\n",
       "    .dataframe tbody tr th {\n",
       "        vertical-align: top;\n",
       "    }\n",
       "\n",
       "    .dataframe thead th {\n",
       "        text-align: right;\n",
       "    }\n",
       "</style>\n",
       "<table border=\"1\" class=\"dataframe\">\n",
       "  <thead>\n",
       "    <tr style=\"text-align: right;\">\n",
       "      <th></th>\n",
       "      <th>Twitter ID</th>\n",
       "    </tr>\n",
       "  </thead>\n",
       "  <tbody>\n",
       "    <tr>\n",
       "      <th>0</th>\n",
       "      <td>1207093177225793536</td>\n",
       "    </tr>\n",
       "    <tr>\n",
       "      <th>1</th>\n",
       "      <td>1206528092837163009</td>\n",
       "    </tr>\n",
       "    <tr>\n",
       "      <th>2</th>\n",
       "      <td>1207765486433439748</td>\n",
       "    </tr>\n",
       "    <tr>\n",
       "      <th>3</th>\n",
       "      <td>1205401211429687296</td>\n",
       "    </tr>\n",
       "    <tr>\n",
       "      <th>4</th>\n",
       "      <td>1205400804703780865</td>\n",
       "    </tr>\n",
       "  </tbody>\n",
       "</table>\n",
       "</div>"
      ],
      "text/plain": [
       "            Twitter ID\n",
       "0  1207093177225793536\n",
       "1  1206528092837163009\n",
       "2  1207765486433439748\n",
       "3  1205401211429687296\n",
       "4  1205400804703780865"
      ]
     },
     "execution_count": 76,
     "metadata": {},
     "output_type": "execute_result"
    }
   ],
   "source": [
    "data_dir = \"../../data\"\n",
    "misodf = pd.read_csv(os.path.join(data_dir,\"misocorpus.txt\"))\n",
    "misodf.head()"
   ]
  },
  {
   "cell_type": "code",
   "execution_count": 80,
   "id": "26b0ceb3-01dd-43c9-b985-c8197114703b",
   "metadata": {},
   "outputs": [
    {
     "data": {
      "text/plain": [
       "(2004, 1)"
      ]
     },
     "execution_count": 80,
     "metadata": {},
     "output_type": "execute_result"
    }
   ],
   "source": [
    "miso_dss = pd.read_csv(os.path.join(data_dir,\"miso-ddss.txt\"))\n",
    "miso_dss.shape"
   ]
  },
  {
   "cell_type": "code",
   "execution_count": 89,
   "id": "19bc4007-6ddc-43d7-9835-43fb425f77b0",
   "metadata": {},
   "outputs": [
    {
     "data": {
      "text/plain": [
       "Twitter ID    29\n",
       "_merge        29\n",
       "dtype: int64"
      ]
     },
     "execution_count": 89,
     "metadata": {},
     "output_type": "execute_result"
    }
   ],
   "source": [
    "lj_dss = miso_dss.merge(misodf, on='Twitter ID', how='left',indicator=True)\n",
    "lj_dss[lj_dss[\"_merge\"] == \"left_only\"].count()"
   ]
  },
  {
   "cell_type": "code",
   "execution_count": 90,
   "id": "88ca6bd8-5459-477d-b305-849300421455",
   "metadata": {},
   "outputs": [
    {
     "data": {
      "text/plain": [
       "(2764, 1)"
      ]
     },
     "execution_count": 90,
     "metadata": {},
     "output_type": "execute_result"
    }
   ],
   "source": [
    "miso_seal = pd.read_csv(os.path.join(data_dir,\"miso-seal.txt\"))\n",
    "miso_seal.shape"
   ]
  },
  {
   "cell_type": "code",
   "execution_count": 91,
   "id": "eed3ea1d-fdf5-4073-84db-2b1a486aca52",
   "metadata": {},
   "outputs": [
    {
     "data": {
      "text/plain": [
       "Twitter ID    0\n",
       "_merge        0\n",
       "dtype: int64"
      ]
     },
     "execution_count": 91,
     "metadata": {},
     "output_type": "execute_result"
    }
   ],
   "source": [
    "lj_seal = miso_seal.merge(misodf, on='Twitter ID', how='left',indicator=True)\n",
    "lj_seal[lj_seal[\"_merge\"] == \"left_only\"].count()"
   ]
  },
  {
   "cell_type": "code",
   "execution_count": 92,
   "id": "03541cf2-51f5-4f88-a213-78511dfe97eb",
   "metadata": {},
   "outputs": [
    {
     "data": {
      "text/plain": [
       "(3572, 1)"
      ]
     },
     "execution_count": 92,
     "metadata": {},
     "output_type": "execute_result"
    }
   ],
   "source": [
    "miso_varw = pd.read_csv(os.path.join(data_dir,\"miso-varw.txt\"))\n",
    "miso_varw.shape"
   ]
  },
  {
   "cell_type": "code",
   "execution_count": 93,
   "id": "cc2ee786-1249-4328-9628-cd090b20ccd3",
   "metadata": {},
   "outputs": [
    {
     "data": {
      "text/plain": [
       "Twitter ID    0\n",
       "_merge        0\n",
       "dtype: int64"
      ]
     },
     "execution_count": 93,
     "metadata": {},
     "output_type": "execute_result"
    }
   ],
   "source": [
    "lj_varw = miso_varw.merge(misodf, on='Twitter ID', how='left',indicator=True)\n",
    "lj_varw[lj_varw[\"_merge\"] == \"left_only\"].count()"
   ]
  }
 ],
 "metadata": {
  "kernelspec": {
   "display_name": "Python 3 (ipykernel)",
   "language": "python",
   "name": "python3"
  },
  "language_info": {
   "codemirror_mode": {
    "name": "ipython",
    "version": 3
   },
   "file_extension": ".py",
   "mimetype": "text/x-python",
   "name": "python",
   "nbconvert_exporter": "python",
   "pygments_lexer": "ipython3",
   "version": "3.9.16"
  }
 },
 "nbformat": 4,
 "nbformat_minor": 5
}
