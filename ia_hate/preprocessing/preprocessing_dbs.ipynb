{
 "cells": [
  {
   "cell_type": "markdown",
   "id": "18a8f002-2fe4-44a6-9f42-c08995eb4d7f",
   "metadata": {},
   "source": [
    "Curating Data for RNN data"
   ]
  },
  {
   "cell_type": "code",
   "execution_count": 2,
   "id": "200a1d4e-9f88-4134-b1ca-0205079e7f7a",
   "metadata": {},
   "outputs": [],
   "source": [
    "import pandas as pd\n",
    "import os"
   ]
  },
  {
   "cell_type": "code",
   "execution_count": 5,
   "id": "2215bb23-e774-446c-8513-0f31ba03dcfd",
   "metadata": {},
   "outputs": [
    {
     "data": {
      "text/plain": [
       "['CorpushaterNet.zip',\n",
       " '.DS_Store',\n",
       " 'twitter_api_bearer_token.txt',\n",
       " 'CorpusRNN.zip',\n",
       " 'misocorpus.zip',\n",
       " 'miso-seal.txt',\n",
       " 'README.md',\n",
       " 'misocorpus_full.csv',\n",
       " 'raw_corpus_2M.zip',\n",
       " '__MACOSX',\n",
       " 'lyrics_catalog.csv',\n",
       " 'corpus.csv',\n",
       " 'miso_retrieval',\n",
       " 'miso-ddss.txt',\n",
       " 'misocorpus.txt',\n",
       " 'miso-varw.txt',\n",
       " 'corpus2.csv']"
      ]
     },
     "execution_count": 5,
     "metadata": {},
     "output_type": "execute_result"
    }
   ],
   "source": [
    "DATA_DIR= \"../data\"\n",
    "os.listdir(DATA_DIR)"
   ]
  },
  {
   "cell_type": "code",
   "execution_count": 18,
   "id": "c18b7ba5-ef04-4281-afd3-62fd65d292ff",
   "metadata": {},
   "outputs": [],
   "source": [
    "\n",
    "df1 = pd.read_csv(\n",
    "    os.path.join(DATA_DIR,\"corpus.csv\"),\n",
    "    encoding=\"ISO-8859-1\",\n",
    "    header=None,\n",
    "    names=[\"feature\",\"label\"]\n",
    ")"
   ]
  },
  {
   "cell_type": "code",
   "execution_count": 17,
   "id": "d7a217ba-a254-45dc-b07d-8ec7f7fb79b5",
   "metadata": {},
   "outputs": [],
   "source": [
    "df2 = pd.read_csv(\n",
    "    os.path.join(DATA_DIR,\"corpus2.csv\"),\n",
    "    encoding=\"ISO-8859-1\",\n",
    "    header=None,\n",
    "    names=[\"feature\",\"label\"]\n",
    ")"
   ]
  },
  {
   "cell_type": "code",
   "execution_count": 21,
   "id": "f87ee0a8-2737-4c81-b9f2-68a99bdbd50b",
   "metadata": {},
   "outputs": [
    {
     "data": {
      "text/plain": [
       "250"
      ]
     },
     "execution_count": 21,
     "metadata": {},
     "output_type": "execute_result"
    }
   ],
   "source": [
    "df1.shape[0] - df2.shape[0]"
   ]
  },
  {
   "cell_type": "markdown",
   "id": "9d3f9ce6-a3f3-496f-9df3-74344462a485",
   "metadata": {},
   "source": [
    "Well be using the first dataset, as it contains all samples. \n",
    "But we will be substituting th 1n grams. And writing it as utf8"
   ]
  },
  {
   "cell_type": "code",
   "execution_count": 75,
   "id": "25aaa0d2-c523-4650-a608-5a265f6f38b8",
   "metadata": {},
   "outputs": [],
   "source": [
    "df_rnn = df1.loc[df1.feature.str.split(\" \").str.len() > 1]"
   ]
  },
  {
   "cell_type": "markdown",
   "id": "2ce045a0-f132-474f-8163-496a65ff50b8",
   "metadata": {},
   "source": [
    "Reading misocorpus now"
   ]
  },
  {
   "cell_type": "code",
   "execution_count": 80,
   "id": "d1415c13-05ba-45e9-bc7f-373341b923a2",
   "metadata": {},
   "outputs": [],
   "source": [
    "df_miso = pd.read_csv(\n",
    "    os.path.join(DATA_DIR,\"misocorpus_full.csv\"),\n",
    "    names=[\"tweet_id\",\"feature\"],\n",
    "    skiprows=1\n",
    ")"
   ]
  },
  {
   "cell_type": "code",
   "execution_count": 86,
   "id": "e2a4cd58-03fb-455e-8327-7d7a52b91825",
   "metadata": {},
   "outputs": [],
   "source": [
    "df_miso[\"label\"] = 1\n",
    "df_miso[\"origin\"] = \"misocorpus\""
   ]
  },
  {
   "cell_type": "code",
   "execution_count": 91,
   "id": "cc2bafce-f1a9-4e54-a922-cd6c4681ef71",
   "metadata": {},
   "outputs": [],
   "source": [
    "import numpy as np"
   ]
  },
  {
   "cell_type": "code",
   "execution_count": 93,
   "id": "80909709-366c-4998-967a-857f269fa1d5",
   "metadata": {},
   "outputs": [],
   "source": [
    "df_rnn[\"tweet_id\"] = np.nan\n",
    "df_rnn[\"origin\"] = \"rnn\""
   ]
  },
  {
   "cell_type": "code",
   "execution_count": 98,
   "id": "1e1d1e83-39af-4b71-8f87-17aea4fba0eb",
   "metadata": {},
   "outputs": [],
   "source": [
    "df_rnn.reset_index(inplace=True)"
   ]
  },
  {
   "cell_type": "code",
   "execution_count": 105,
   "id": "6f226e06-b966-447e-abe6-9e89d1f90f02",
   "metadata": {},
   "outputs": [],
   "source": [
    "df_rnn.drop([\"index\"],inplace=True,axis=1)"
   ]
  },
  {
   "cell_type": "code",
   "execution_count": 107,
   "id": "1763729e-4e13-46bd-90b0-6a667d43f8b4",
   "metadata": {},
   "outputs": [
    {
     "data": {
      "text/plain": [
       "label\n",
       "1    4004\n",
       "0    3028\n",
       "Name: count, dtype: int64"
      ]
     },
     "execution_count": 107,
     "metadata": {},
     "output_type": "execute_result"
    }
   ],
   "source": [
    "df_rnn.label.value_counts()"
   ]
  },
  {
   "cell_type": "code",
   "execution_count": 109,
   "id": "223582b0-bca4-4595-a22d-ad5d14be6e00",
   "metadata": {},
   "outputs": [
    {
     "data": {
      "text/plain": [
       "label\n",
       "1    4685\n",
       "Name: count, dtype: int64"
      ]
     },
     "execution_count": 109,
     "metadata": {},
     "output_type": "execute_result"
    }
   ],
   "source": [
    "df_miso.label.value_counts()"
   ]
  },
  {
   "cell_type": "code",
   "execution_count": 111,
   "id": "a7579c8b-e920-4d05-ad80-1cef5fef155e",
   "metadata": {},
   "outputs": [],
   "source": [
    "DF = pd.concat([df_rnn,df_miso])"
   ]
  },
  {
   "cell_type": "code",
   "execution_count": 115,
   "id": "712a5d1d-e6db-468b-bfe3-42ff25069ca5",
   "metadata": {},
   "outputs": [],
   "source": [
    "DF.to_csv(\"../master_data/DATA.csv\",index=False)"
   ]
  }
 ],
 "metadata": {
  "kernelspec": {
   "display_name": "Python 3 (ipykernel)",
   "language": "python",
   "name": "python3"
  },
  "language_info": {
   "codemirror_mode": {
    "name": "ipython",
    "version": 3
   },
   "file_extension": ".py",
   "mimetype": "text/x-python",
   "name": "python",
   "nbconvert_exporter": "python",
   "pygments_lexer": "ipython3",
   "version": "3.9.16"
  }
 },
 "nbformat": 4,
 "nbformat_minor": 5
}
