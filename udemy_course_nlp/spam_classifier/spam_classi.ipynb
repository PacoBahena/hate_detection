{
 "cells": [
  {
   "cell_type": "code",
   "execution_count": null,
   "id": "1c21403e-4660-4c5b-a3e0-a5d4a10641ba",
   "metadata": {},
   "outputs": [],
   "source": []
  },
  {
   "cell_type": "code",
   "execution_count": 2,
   "id": "db46b9f1-3629-44cc-9bde-df4d1efed134",
   "metadata": {},
   "outputs": [],
   "source": [
    "import numpy as np\n",
    "import pandas as pd\n",
    "import matplotlib.pyplot as plt\n",
    "import os"
   ]
  },
  {
   "cell_type": "code",
   "execution_count": 2,
   "id": "b3aaac7f-dc88-4810-b68e-e7b303dbbc77",
   "metadata": {},
   "outputs": [],
   "source": []
  },
  {
   "cell_type": "code",
   "execution_count": 2,
   "id": "227b0c57-4899-4f22-8834-c182be2625ee",
   "metadata": {},
   "outputs": [
    {
     "data": {
      "text/plain": [
       "'/Users/pacobahenagaleana/Desktop/growth/masters/nlp_course/spam_classifier'"
      ]
     },
     "execution_count": 2,
     "metadata": {},
     "output_type": "execute_result"
    }
   ],
   "source": [
    "os.getcwd()"
   ]
  },
  {
   "cell_type": "code",
   "execution_count": 5,
   "id": "d4966969-0806-4224-8378-536ef6eadd79",
   "metadata": {},
   "outputs": [],
   "source": [
    "df = pd.read_csv(\"spam.tsv\",sep=\"\\t\")"
   ]
  },
  {
   "cell_type": "code",
   "execution_count": 4,
   "id": "f8967c1f-8c25-4fdb-81ad-6a571908dbb1",
   "metadata": {},
   "outputs": [
    {
     "data": {
      "text/html": [
       "<div>\n",
       "<style scoped>\n",
       "    .dataframe tbody tr th:only-of-type {\n",
       "        vertical-align: middle;\n",
       "    }\n",
       "\n",
       "    .dataframe tbody tr th {\n",
       "        vertical-align: top;\n",
       "    }\n",
       "\n",
       "    .dataframe thead th {\n",
       "        text-align: right;\n",
       "    }\n",
       "</style>\n",
       "<table border=\"1\" class=\"dataframe\">\n",
       "  <thead>\n",
       "    <tr style=\"text-align: right;\">\n",
       "      <th></th>\n",
       "      <th>label</th>\n",
       "      <th>message</th>\n",
       "      <th>length</th>\n",
       "      <th>punct</th>\n",
       "    </tr>\n",
       "  </thead>\n",
       "  <tbody>\n",
       "    <tr>\n",
       "      <th>0</th>\n",
       "      <td>ham</td>\n",
       "      <td>Go until jurong point, crazy.. Available only ...</td>\n",
       "      <td>111</td>\n",
       "      <td>9</td>\n",
       "    </tr>\n",
       "    <tr>\n",
       "      <th>1</th>\n",
       "      <td>ham</td>\n",
       "      <td>Ok lar... Joking wif u oni...</td>\n",
       "      <td>29</td>\n",
       "      <td>6</td>\n",
       "    </tr>\n",
       "    <tr>\n",
       "      <th>2</th>\n",
       "      <td>spam</td>\n",
       "      <td>Free entry in 2 a wkly comp to win FA Cup fina...</td>\n",
       "      <td>155</td>\n",
       "      <td>6</td>\n",
       "    </tr>\n",
       "    <tr>\n",
       "      <th>3</th>\n",
       "      <td>ham</td>\n",
       "      <td>U dun say so early hor... U c already then say...</td>\n",
       "      <td>49</td>\n",
       "      <td>6</td>\n",
       "    </tr>\n",
       "    <tr>\n",
       "      <th>4</th>\n",
       "      <td>ham</td>\n",
       "      <td>Nah I don't think he goes to usf, he lives aro...</td>\n",
       "      <td>61</td>\n",
       "      <td>2</td>\n",
       "    </tr>\n",
       "  </tbody>\n",
       "</table>\n",
       "</div>"
      ],
      "text/plain": [
       "  label                                            message  length  punct\n",
       "0   ham  Go until jurong point, crazy.. Available only ...     111      9\n",
       "1   ham                      Ok lar... Joking wif u oni...      29      6\n",
       "2  spam  Free entry in 2 a wkly comp to win FA Cup fina...     155      6\n",
       "3   ham  U dun say so early hor... U c already then say...      49      6\n",
       "4   ham  Nah I don't think he goes to usf, he lives aro...      61      2"
      ]
     },
     "execution_count": 4,
     "metadata": {},
     "output_type": "execute_result"
    }
   ],
   "source": [
    "df.head()"
   ]
  },
  {
   "cell_type": "code",
   "execution_count": 5,
   "id": "9557c944-cfb0-4049-b9c4-5b2c5ee6f3c9",
   "metadata": {},
   "outputs": [
    {
     "data": {
      "text/plain": [
       "label      0\n",
       "message    0\n",
       "length     0\n",
       "punct      0\n",
       "dtype: int64"
      ]
     },
     "execution_count": 5,
     "metadata": {},
     "output_type": "execute_result"
    }
   ],
   "source": [
    "df.isna().sum()"
   ]
  },
  {
   "cell_type": "code",
   "execution_count": 6,
   "id": "17554a9c-1336-4b9d-96fd-992589644d8a",
   "metadata": {},
   "outputs": [
    {
     "data": {
      "text/html": [
       "<div>\n",
       "<style scoped>\n",
       "    .dataframe tbody tr th:only-of-type {\n",
       "        vertical-align: middle;\n",
       "    }\n",
       "\n",
       "    .dataframe tbody tr th {\n",
       "        vertical-align: top;\n",
       "    }\n",
       "\n",
       "    .dataframe thead th {\n",
       "        text-align: right;\n",
       "    }\n",
       "</style>\n",
       "<table border=\"1\" class=\"dataframe\">\n",
       "  <thead>\n",
       "    <tr style=\"text-align: right;\">\n",
       "      <th></th>\n",
       "      <th>label</th>\n",
       "      <th>message</th>\n",
       "      <th>length</th>\n",
       "      <th>punct</th>\n",
       "    </tr>\n",
       "  </thead>\n",
       "  <tbody>\n",
       "    <tr>\n",
       "      <th>5567</th>\n",
       "      <td>spam</td>\n",
       "      <td>This is the 2nd time we have tried 2 contact u...</td>\n",
       "      <td>160</td>\n",
       "      <td>8</td>\n",
       "    </tr>\n",
       "    <tr>\n",
       "      <th>5568</th>\n",
       "      <td>ham</td>\n",
       "      <td>Will ü b going to esplanade fr home?</td>\n",
       "      <td>36</td>\n",
       "      <td>1</td>\n",
       "    </tr>\n",
       "    <tr>\n",
       "      <th>5569</th>\n",
       "      <td>ham</td>\n",
       "      <td>Pity, * was in mood for that. So...any other s...</td>\n",
       "      <td>57</td>\n",
       "      <td>7</td>\n",
       "    </tr>\n",
       "    <tr>\n",
       "      <th>5570</th>\n",
       "      <td>ham</td>\n",
       "      <td>The guy did some bitching but I acted like i'd...</td>\n",
       "      <td>125</td>\n",
       "      <td>1</td>\n",
       "    </tr>\n",
       "    <tr>\n",
       "      <th>5571</th>\n",
       "      <td>ham</td>\n",
       "      <td>Rofl. Its true to its name</td>\n",
       "      <td>26</td>\n",
       "      <td>1</td>\n",
       "    </tr>\n",
       "  </tbody>\n",
       "</table>\n",
       "</div>"
      ],
      "text/plain": [
       "     label                                            message  length  punct\n",
       "5567  spam  This is the 2nd time we have tried 2 contact u...     160      8\n",
       "5568   ham               Will ü b going to esplanade fr home?      36      1\n",
       "5569   ham  Pity, * was in mood for that. So...any other s...      57      7\n",
       "5570   ham  The guy did some bitching but I acted like i'd...     125      1\n",
       "5571   ham                         Rofl. Its true to its name      26      1"
      ]
     },
     "execution_count": 6,
     "metadata": {},
     "output_type": "execute_result"
    }
   ],
   "source": [
    "df.tail()"
   ]
  },
  {
   "cell_type": "code",
   "execution_count": 7,
   "id": "461d42ed-dc2c-4520-9e2f-12623267c888",
   "metadata": {},
   "outputs": [
    {
     "data": {
      "text/html": [
       "<div>\n",
       "<style scoped>\n",
       "    .dataframe tbody tr th:only-of-type {\n",
       "        vertical-align: middle;\n",
       "    }\n",
       "\n",
       "    .dataframe tbody tr th {\n",
       "        vertical-align: top;\n",
       "    }\n",
       "\n",
       "    .dataframe thead th {\n",
       "        text-align: right;\n",
       "    }\n",
       "</style>\n",
       "<table border=\"1\" class=\"dataframe\">\n",
       "  <thead>\n",
       "    <tr style=\"text-align: right;\">\n",
       "      <th></th>\n",
       "      <th>length</th>\n",
       "      <th>punct</th>\n",
       "    </tr>\n",
       "  </thead>\n",
       "  <tbody>\n",
       "    <tr>\n",
       "      <th>count</th>\n",
       "      <td>5572.000000</td>\n",
       "      <td>5572.000000</td>\n",
       "    </tr>\n",
       "    <tr>\n",
       "      <th>mean</th>\n",
       "      <td>80.489950</td>\n",
       "      <td>4.177495</td>\n",
       "    </tr>\n",
       "    <tr>\n",
       "      <th>std</th>\n",
       "      <td>59.942907</td>\n",
       "      <td>4.623919</td>\n",
       "    </tr>\n",
       "    <tr>\n",
       "      <th>min</th>\n",
       "      <td>2.000000</td>\n",
       "      <td>0.000000</td>\n",
       "    </tr>\n",
       "    <tr>\n",
       "      <th>25%</th>\n",
       "      <td>36.000000</td>\n",
       "      <td>2.000000</td>\n",
       "    </tr>\n",
       "    <tr>\n",
       "      <th>50%</th>\n",
       "      <td>62.000000</td>\n",
       "      <td>3.000000</td>\n",
       "    </tr>\n",
       "    <tr>\n",
       "      <th>75%</th>\n",
       "      <td>122.000000</td>\n",
       "      <td>6.000000</td>\n",
       "    </tr>\n",
       "    <tr>\n",
       "      <th>max</th>\n",
       "      <td>910.000000</td>\n",
       "      <td>133.000000</td>\n",
       "    </tr>\n",
       "  </tbody>\n",
       "</table>\n",
       "</div>"
      ],
      "text/plain": [
       "            length        punct\n",
       "count  5572.000000  5572.000000\n",
       "mean     80.489950     4.177495\n",
       "std      59.942907     4.623919\n",
       "min       2.000000     0.000000\n",
       "25%      36.000000     2.000000\n",
       "50%      62.000000     3.000000\n",
       "75%     122.000000     6.000000\n",
       "max     910.000000   133.000000"
      ]
     },
     "execution_count": 7,
     "metadata": {},
     "output_type": "execute_result"
    }
   ],
   "source": [
    "df.describe()"
   ]
  },
  {
   "cell_type": "code",
   "execution_count": 8,
   "id": "d9bfdfc2-fdd6-4283-8228-6aa1990816eb",
   "metadata": {},
   "outputs": [
    {
     "data": {
      "text/plain": [
       "label\n",
       "ham     0.865937\n",
       "spam    0.134063\n",
       "Name: count, dtype: float64"
      ]
     },
     "execution_count": 8,
     "metadata": {},
     "output_type": "execute_result"
    }
   ],
   "source": [
    "df.label.value_counts() / df.shape[0]"
   ]
  },
  {
   "cell_type": "markdown",
   "id": "e871c71f-7f2d-480a-87f4-0b1e65db2191",
   "metadata": {},
   "source": [
    "Very imbalanced dataset\n"
   ]
  },
  {
   "cell_type": "code",
   "execution_count": 9,
   "id": "87e43d61-d5b7-475c-b2a9-cc0de7f12f4b",
   "metadata": {},
   "outputs": [
    {
     "data": {
      "text/plain": [
       "label\n",
       "ham     4825\n",
       "spam     747\n",
       "Name: count, dtype: int64"
      ]
     },
     "execution_count": 9,
     "metadata": {},
     "output_type": "execute_result"
    }
   ],
   "source": [
    "df.label.value_counts()"
   ]
  },
  {
   "cell_type": "code",
   "execution_count": 7,
   "id": "d33fcbd1-35f2-4e61-a710-b6f35ac748dc",
   "metadata": {},
   "outputs": [],
   "source": [
    "ham = df.loc[df[\"label\"] == \"ham\"]\n",
    "spam = df.loc[df[\"label\"] == \"spam\"]"
   ]
  },
  {
   "cell_type": "code",
   "execution_count": 8,
   "id": "6785d36a-702d-48e7-af57-0f5d8585e621",
   "metadata": {},
   "outputs": [],
   "source": [
    "sampled_ham = ham.sample(spam.shape[0])"
   ]
  },
  {
   "cell_type": "code",
   "execution_count": 9,
   "id": "c2fdbccf-0ae4-40f0-a21a-abff9498db27",
   "metadata": {},
   "outputs": [],
   "source": [
    "data = pd.concat([sampled_ham,spam], ignore_index=True)"
   ]
  },
  {
   "cell_type": "code",
   "execution_count": 13,
   "id": "89075ce5-35cb-47a9-8f76-bf2b585336b6",
   "metadata": {},
   "outputs": [
    {
     "data": {
      "text/plain": [
       "label\n",
       "ham     747\n",
       "spam    747\n",
       "Name: count, dtype: int64"
      ]
     },
     "execution_count": 13,
     "metadata": {},
     "output_type": "execute_result"
    }
   ],
   "source": [
    "data.label.value_counts()"
   ]
  },
  {
   "cell_type": "code",
   "execution_count": 10,
   "id": "3a9a1344-c1b4-4420-8367-856dde189ab6",
   "metadata": {},
   "outputs": [],
   "source": [
    "ham_length = data.loc[data[\"label\"] == \"ham\"].loc[:,[\"length\"]]\n",
    "spam_length = data.loc[data[\"label\"] == \"spam\"].loc[:,\"length\"]"
   ]
  },
  {
   "cell_type": "code",
   "execution_count": 15,
   "id": "31ce4ff4-76cd-412a-80c0-c6dd2bf4eff2",
   "metadata": {},
   "outputs": [
    {
     "data": {
      "image/png": "[encoded data removed]",
      "text/plain": [
       "<Figure size 640x480 with 1 Axes>"
      ]
     },
     "metadata": {},
     "output_type": "display_data"
    }
   ],
   "source": [
    "plt.hist(ham_length, bins=100)\n",
    "plt.hist(spam_length, bins=100)\n",
    "plt.show()"
   ]
  },
  {
   "cell_type": "markdown",
   "id": "01554a3b-b66e-4f5c-979a-8c4c8aea0352",
   "metadata": {},
   "source": [
    "There is a higher probabiblity that messages that are longer are actually spam. "
   ]
  },
  {
   "cell_type": "code",
   "execution_count": 16,
   "id": "47152c24-5b86-4866-adbf-8180ddfb00c8",
   "metadata": {},
   "outputs": [
    {
     "data": {
      "text/plain": [
       "label      object\n",
       "message    object\n",
       "length      int64\n",
       "punct       int64\n",
       "dtype: object"
      ]
     },
     "execution_count": 16,
     "metadata": {},
     "output_type": "execute_result"
    }
   ],
   "source": [
    "data.dtypes"
   ]
  },
  {
   "cell_type": "code",
   "execution_count": 17,
   "id": "46f6cba4-ae0c-44d6-b36d-4c206ad99714",
   "metadata": {},
   "outputs": [],
   "source": [
    "ham_punct = data.loc[data[\"label\"] == \"ham\"].loc[:,[\"punct\"]]\n",
    "spam_punct = data.loc[data[\"label\"] == \"spam\"].loc[:,\"punct\"]"
   ]
  },
  {
   "cell_type": "code",
   "execution_count": 18,
   "id": "dac07d6a-70f2-4b31-bf42-bd469515ca58",
   "metadata": {},
   "outputs": [
    {
     "data": {
      "image/png": "[encoded data removed]",
      "text/plain": [
       "<Figure size 640x480 with 1 Axes>"
      ]
     },
     "metadata": {},
     "output_type": "display_data"
    }
   ],
   "source": [
    "plt.hist(ham_punct, bins=5)\n",
    "plt.hist(spam_punct, bins=5)\n",
    "plt.show()"
   ]
  },
  {
   "cell_type": "code",
   "execution_count": 19,
   "id": "59fcc37c-1ae8-4a23-8eb8-31028cdba2a6",
   "metadata": {},
   "outputs": [],
   "source": [
    "data.to_csv(\"processed_dataset.csv\",index=False,header=True)"
   ]
  },
  {
   "cell_type": "markdown",
   "id": "af88dfb4-c214-4222-94a5-e5bf60deb3c1",
   "metadata": {},
   "source": [
    "Punctuation is not a differentiator between spam messages."
   ]
  },
  {
   "cell_type": "markdown",
   "id": "85c32a10-e84d-4f21-be4c-b3984e2755f5",
   "metadata": {},
   "source": [
    "## Split data"
   ]
  },
  {
   "cell_type": "code",
   "execution_count": 14,
   "id": "db82236c-8bf1-401a-b448-f3cfdbd3e43a",
   "metadata": {},
   "outputs": [],
   "source": [
    "# !pip install scikit-learn==1.3.2"
   ]
  },
  {
   "cell_type": "code",
   "execution_count": 11,
   "id": "de3e7010-f656-4872-94a6-fefc6bb40524",
   "metadata": {},
   "outputs": [],
   "source": [
    "from sklearn.model_selection import train_test_split"
   ]
  },
  {
   "cell_type": "code",
   "execution_count": 21,
   "id": "f1df7f56-c07d-41f1-a2ef-b1d02ce78320",
   "metadata": {},
   "outputs": [
    {
     "data": {
      "text/plain": [
       "<function sklearn.model_selection._split.train_test_split(*arrays, test_size=None, train_size=None, random_state=None, shuffle=True, stratify=None)>"
      ]
     },
     "execution_count": 21,
     "metadata": {},
     "output_type": "execute_result"
    }
   ],
   "source": [
    "train_test_split"
   ]
  },
  {
   "cell_type": "code",
   "execution_count": 22,
   "id": "c5cf2555-4c52-4b4c-86e4-9001903adc78",
   "metadata": {},
   "outputs": [
    {
     "data": {
      "text/plain": [
       "'1.3.2'"
      ]
     },
     "execution_count": 22,
     "metadata": {},
     "output_type": "execute_result"
    }
   ],
   "source": [
    "import sklearn\n",
    "sklearn.__version__"
   ]
  },
  {
   "cell_type": "code",
   "execution_count": 32,
   "id": "2915e827-bc69-4e59-8e5d-ba2477bc8819",
   "metadata": {},
   "outputs": [],
   "source": [
    "# data[\"message\"]"
   ]
  },
  {
   "cell_type": "code",
   "execution_count": 12,
   "id": "c4bb152d-d0a1-4f47-94ec-4bdafaff7d6c",
   "metadata": {},
   "outputs": [],
   "source": [
    "X_train, X_test, y_train, y_test =\\\n",
    "train_test_split(data[\"message\"],data[\"label\"], test_size= 0.3, random_state= 0,shuffle=True)"
   ]
  },
  {
   "cell_type": "code",
   "execution_count": 24,
   "id": "296d414e-e62b-471a-9e73-907da7613fd5",
   "metadata": {},
   "outputs": [
    {
     "data": {
      "text/plain": [
       "1438      You have 1 new message. Please call 08715205273\n",
       "431     Sorry, left phone upstairs. OK, might be hecti...\n",
       "Name: message, dtype: object"
      ]
     },
     "execution_count": 24,
     "metadata": {},
     "output_type": "execute_result"
    }
   ],
   "source": [
    "X_train[:2]"
   ]
  },
  {
   "cell_type": "code",
   "execution_count": 13,
   "id": "ab1b394b-a703-45db-a201-ccc4b87bf0da",
   "metadata": {},
   "outputs": [
    {
     "data": {
      "text/plain": [
       "pandas.core.series.Series"
      ]
     },
     "execution_count": 13,
     "metadata": {},
     "output_type": "execute_result"
    }
   ],
   "source": [
    "type(X_train)"
   ]
  },
  {
   "cell_type": "markdown",
   "id": "bcd33ceb-42cc-4b2f-9083-670e36f9b6e7",
   "metadata": {},
   "source": [
    "## Apply Model"
   ]
  },
  {
   "cell_type": "code",
   "execution_count": 26,
   "id": "7cca346a-cf5b-4cb0-9963-a9bec53349e0",
   "metadata": {},
   "outputs": [],
   "source": [
    "from pprint import pprint\n",
    "from sklearn.feature_extraction.text import TfidfVectorizer\n",
    "from sklearn.ensemble import RandomForestClassifier\n",
    "from sklearn import svm\n",
    "from sklearn.pipeline import Pipeline\n",
    "\n",
    "from sklearn.model_selection import train_test_split\n",
    "\n",
    "from sklearn.metrics \\\n",
    "import classification_report, recall_score, accuracy_score,precision_score,confusion_matrix"
   ]
  },
  {
   "cell_type": "markdown",
   "id": "bb54cce7-0341-4fb4-ab2d-6551f009751c",
   "metadata": {},
   "source": [
    "Lets take a look at the tfid vetorizer transform"
   ]
  },
  {
   "cell_type": "code",
   "execution_count": 27,
   "id": "a074b037-6599-43e2-9479-323be844e7f0",
   "metadata": {},
   "outputs": [],
   "source": [
    "data = pd.read_csv(\"processed_dataset.csv\")"
   ]
  },
  {
   "cell_type": "code",
   "execution_count": 28,
   "id": "6c637765-60a8-4939-a30d-580744693cfb",
   "metadata": {},
   "outputs": [
    {
     "data": {
      "text/html": [
       "<div>\n",
       "<style scoped>\n",
       "    .dataframe tbody tr th:only-of-type {\n",
       "        vertical-align: middle;\n",
       "    }\n",
       "\n",
       "    .dataframe tbody tr th {\n",
       "        vertical-align: top;\n",
       "    }\n",
       "\n",
       "    .dataframe thead th {\n",
       "        text-align: right;\n",
       "    }\n",
       "</style>\n",
       "<table border=\"1\" class=\"dataframe\">\n",
       "  <thead>\n",
       "    <tr style=\"text-align: right;\">\n",
       "      <th></th>\n",
       "      <th>label</th>\n",
       "      <th>message</th>\n",
       "      <th>length</th>\n",
       "      <th>punct</th>\n",
       "    </tr>\n",
       "  </thead>\n",
       "  <tbody>\n",
       "    <tr>\n",
       "      <th>0</th>\n",
       "      <td>ham</td>\n",
       "      <td>Yup, no need. I'll jus wait 4 e rain 2 stop.</td>\n",
       "      <td>44</td>\n",
       "      <td>4</td>\n",
       "    </tr>\n",
       "    <tr>\n",
       "      <th>1</th>\n",
       "      <td>ham</td>\n",
       "      <td>How much would it cost to hire a hitman</td>\n",
       "      <td>39</td>\n",
       "      <td>0</td>\n",
       "    </tr>\n",
       "    <tr>\n",
       "      <th>2</th>\n",
       "      <td>ham</td>\n",
       "      <td>It wont b until 2.15 as trying 2 sort house ou...</td>\n",
       "      <td>60</td>\n",
       "      <td>3</td>\n",
       "    </tr>\n",
       "    <tr>\n",
       "      <th>3</th>\n",
       "      <td>ham</td>\n",
       "      <td>Great. Never been better. Each day gives even ...</td>\n",
       "      <td>71</td>\n",
       "      <td>2</td>\n",
       "    </tr>\n",
       "    <tr>\n",
       "      <th>4</th>\n",
       "      <td>ham</td>\n",
       "      <td>I had askd u a question some hours before. Its...</td>\n",
       "      <td>53</td>\n",
       "      <td>1</td>\n",
       "    </tr>\n",
       "  </tbody>\n",
       "</table>\n",
       "</div>"
      ],
      "text/plain": [
       "  label                                            message  length  punct\n",
       "0   ham       Yup, no need. I'll jus wait 4 e rain 2 stop.      44      4\n",
       "1   ham            How much would it cost to hire a hitman      39      0\n",
       "2   ham  It wont b until 2.15 as trying 2 sort house ou...      60      3\n",
       "3   ham  Great. Never been better. Each day gives even ...      71      2\n",
       "4   ham  I had askd u a question some hours before. Its...      53      1"
      ]
     },
     "execution_count": 28,
     "metadata": {},
     "output_type": "execute_result"
    }
   ],
   "source": [
    "data.head()"
   ]
  },
  {
   "cell_type": "code",
   "execution_count": 29,
   "id": "874ca75a-cf58-4106-a919-58e387309bcd",
   "metadata": {},
   "outputs": [
    {
     "data": {
      "text/plain": [
       "label\n",
       "ham     747\n",
       "spam    747\n",
       "Name: count, dtype: int64"
      ]
     },
     "execution_count": 29,
     "metadata": {},
     "output_type": "execute_result"
    }
   ],
   "source": [
    "data.label.value_counts()"
   ]
  },
  {
   "cell_type": "code",
   "execution_count": 1,
   "id": "893655fe-687f-42b2-a2fb-9efbf08e5382",
   "metadata": {},
   "outputs": [
    {
     "ename": "NameError",
     "evalue": "name 'train_test_split' is not defined",
     "output_type": "error",
     "traceback": [
      "\u001b[0;31m---------------------------------------------------------------------------\u001b[0m",
      "\u001b[0;31mNameError\u001b[0m                                 Traceback (most recent call last)",
      "Cell \u001b[0;32mIn[1], line 2\u001b[0m\n\u001b[1;32m      1\u001b[0m X_train, X_test, y_train, y_test \u001b[38;5;241m=\u001b[39m\\\n\u001b[0;32m----> 2\u001b[0m \u001b[43mtrain_test_split\u001b[49m(data[\u001b[38;5;124m\"\u001b[39m\u001b[38;5;124mmessage\u001b[39m\u001b[38;5;124m\"\u001b[39m],data[\u001b[38;5;124m\"\u001b[39m\u001b[38;5;124mlabel\u001b[39m\u001b[38;5;124m\"\u001b[39m], test_size\u001b[38;5;241m=\u001b[39m \u001b[38;5;241m0.3\u001b[39m, random_state\u001b[38;5;241m=\u001b[39m \u001b[38;5;241m0\u001b[39m)\n",
      "\u001b[0;31mNameError\u001b[0m: name 'train_test_split' is not defined"
     ]
    }
   ],
   "source": [
    "X_train, X_test, y_train, y_test =\\\n",
    "train_test_split(data[\"message\"],data[\"label\"], test_size= 0.3, random_state= 0)"
   ]
  },
  {
   "cell_type": "code",
   "execution_count": 31,
   "id": "f78412b8-3c92-46ba-b16c-824760af9696",
   "metadata": {},
   "outputs": [],
   "source": [
    "## \n",
    "vectorizer = TfidfVectorizer()\n",
    "X_train_tfidf = vectorizer.fit_transform(X_train)\n",
    "## learn vocabulary and get documents tfidf matrix, Row is document, \n",
    "## colum is the tfidf value for that document"
   ]
  },
  {
   "cell_type": "code",
   "execution_count": 32,
   "id": "659b867e-4d92-4d66-babd-9d6cc47664c5",
   "metadata": {},
   "outputs": [
    {
     "data": {
      "text/plain": [
       "(1045, 3763)"
      ]
     },
     "execution_count": 32,
     "metadata": {},
     "output_type": "execute_result"
    }
   ],
   "source": [
    "X_train_tfidf.shape"
   ]
  },
  {
   "cell_type": "markdown",
   "id": "38529d06-d014-4be3-90d6-38add5ff4312",
   "metadata": {},
   "source": [
    "X_train_tf_idf is a sparse matrix. one columns for each word happening in any document. you see, sparse"
   ]
  },
  {
   "cell_type": "code",
   "execution_count": 49,
   "id": "1d88545a-f23e-4233-b31f-c07dd065fe43",
   "metadata": {},
   "outputs": [
    {
     "data": {
      "text/plain": [
       "<1045x3675 sparse matrix of type '<class 'numpy.float64'>'\n",
       "\twith 17818 stored elements in Compressed Sparse Row format>"
      ]
     },
     "execution_count": 49,
     "metadata": {},
     "output_type": "execute_result"
    }
   ],
   "source": [
    "X_train_tfidf"
   ]
  },
  {
   "cell_type": "code",
   "execution_count": 50,
   "id": "ef536380-2872-4ac6-8e8d-65750f962db6",
   "metadata": {},
   "outputs": [],
   "source": [
    "\n"
   ]
  },
  {
   "cell_type": "code",
   "execution_count": 40,
   "id": "349f659e-e85b-4f8a-863e-127faff1c8f4",
   "metadata": {},
   "outputs": [
    {
     "data": {
      "text/plain": [
       "numpy.ndarray"
      ]
     },
     "execution_count": 40,
     "metadata": {},
     "output_type": "execute_result"
    }
   ],
   "source": [
    "type(vectorizer.get_feature_names_out())"
   ]
  },
  {
   "cell_type": "code",
   "execution_count": 52,
   "id": "abca966b-f3de-4a0a-9013-0c06a708315b",
   "metadata": {},
   "outputs": [
    {
     "data": {
      "text/plain": [
       "array(['her', 'finish', 'icmb3cktz8r7', 'greet', 'attempt', 'plenty',\n",
       "       'savamob', 'coins', 'day', 'subs16'], dtype=object)"
      ]
     },
     "execution_count": 52,
     "metadata": {},
     "output_type": "execute_result"
    }
   ],
   "source": [
    "import random\n",
    "# words\n",
    "words = vectorizer.get_feature_names_out()\n",
    "sample_indexes = random.sample(range(words.shape[0]),10)\n",
    "words[sample_indexes]"
   ]
  },
  {
   "cell_type": "code",
   "execution_count": 53,
   "id": "515741aa-d1d8-40ef-b9bc-dad1954c47cf",
   "metadata": {},
   "outputs": [
    {
     "data": {
      "text/plain": [
       "(3763,)"
      ]
     },
     "execution_count": 53,
     "metadata": {},
     "output_type": "execute_result"
    }
   ],
   "source": [
    "words.shape"
   ]
  },
  {
   "cell_type": "code",
   "execution_count": 54,
   "id": "57482827-2c55-44d5-9496-487681efaa7f",
   "metadata": {},
   "outputs": [
    {
     "data": {
      "text/plain": [
       "Index([1438,  431,  194,  240, 1309,  742, 1430, 1064,  981,   49,\n",
       "       ...\n",
       "       1094,  599,  277, 1033, 1383,  763,  835, 1216,  559,  684],\n",
       "      dtype='int64', length=1045)"
      ]
     },
     "execution_count": 54,
     "metadata": {},
     "output_type": "execute_result"
    }
   ],
   "source": [
    "## doc names\n",
    "X_train.index"
   ]
  },
  {
   "cell_type": "code",
   "execution_count": 59,
   "id": "3c0d8319-c441-4851-9db3-538320ed719b",
   "metadata": {},
   "outputs": [
    {
     "data": {
      "text/plain": [
       "<1045x3763 sparse matrix of type '<class 'numpy.float64'>'\n",
       "\twith 17873 stored elements in Compressed Sparse Row format>"
      ]
     },
     "execution_count": 59,
     "metadata": {},
     "output_type": "execute_result"
    }
   ],
   "source": [
    "X_train_tfidf"
   ]
  },
  {
   "cell_type": "code",
   "execution_count": 62,
   "id": "04e5723e-1b76-48df-b9b0-ed2ab8b66235",
   "metadata": {},
   "outputs": [
    {
     "data": {
      "text/html": [
       "<div>\n",
       "<style scoped>\n",
       "    .dataframe tbody tr th:only-of-type {\n",
       "        vertical-align: middle;\n",
       "    }\n",
       "\n",
       "    .dataframe tbody tr th {\n",
       "        vertical-align: top;\n",
       "    }\n",
       "\n",
       "    .dataframe thead th {\n",
       "        text-align: right;\n",
       "    }\n",
       "</style>\n",
       "<table border=\"1\" class=\"dataframe\">\n",
       "  <thead>\n",
       "    <tr style=\"text-align: right;\">\n",
       "      <th></th>\n",
       "      <th>00</th>\n",
       "      <th>000</th>\n",
       "      <th>008704050406</th>\n",
       "      <th>0089</th>\n",
       "      <th>0121</th>\n",
       "      <th>01223585236</th>\n",
       "      <th>01223585334</th>\n",
       "      <th>02</th>\n",
       "      <th>0207</th>\n",
       "      <th>02073162414</th>\n",
       "      <th>...</th>\n",
       "      <th>yun</th>\n",
       "      <th>yup</th>\n",
       "      <th>zealand</th>\n",
       "      <th>zed</th>\n",
       "      <th>zeros</th>\n",
       "      <th>zindgi</th>\n",
       "      <th>zouk</th>\n",
       "      <th>zyada</th>\n",
       "      <th>ú1</th>\n",
       "      <th>〨ud</th>\n",
       "    </tr>\n",
       "  </thead>\n",
       "  <tbody>\n",
       "    <tr>\n",
       "      <th>1438</th>\n",
       "      <td>0.0</td>\n",
       "      <td>0.0</td>\n",
       "      <td>0.0</td>\n",
       "      <td>0.0</td>\n",
       "      <td>0.0</td>\n",
       "      <td>0.0</td>\n",
       "      <td>0.0</td>\n",
       "      <td>0.0</td>\n",
       "      <td>0.0</td>\n",
       "      <td>0.0</td>\n",
       "      <td>...</td>\n",
       "      <td>0.0</td>\n",
       "      <td>0.0</td>\n",
       "      <td>0.0</td>\n",
       "      <td>0.0</td>\n",
       "      <td>0.0</td>\n",
       "      <td>0.0</td>\n",
       "      <td>0.0</td>\n",
       "      <td>0.0</td>\n",
       "      <td>0.0</td>\n",
       "      <td>0.0</td>\n",
       "    </tr>\n",
       "    <tr>\n",
       "      <th>431</th>\n",
       "      <td>0.0</td>\n",
       "      <td>0.0</td>\n",
       "      <td>0.0</td>\n",
       "      <td>0.0</td>\n",
       "      <td>0.0</td>\n",
       "      <td>0.0</td>\n",
       "      <td>0.0</td>\n",
       "      <td>0.0</td>\n",
       "      <td>0.0</td>\n",
       "      <td>0.0</td>\n",
       "      <td>...</td>\n",
       "      <td>0.0</td>\n",
       "      <td>0.0</td>\n",
       "      <td>0.0</td>\n",
       "      <td>0.0</td>\n",
       "      <td>0.0</td>\n",
       "      <td>0.0</td>\n",
       "      <td>0.0</td>\n",
       "      <td>0.0</td>\n",
       "      <td>0.0</td>\n",
       "      <td>0.0</td>\n",
       "    </tr>\n",
       "    <tr>\n",
       "      <th>194</th>\n",
       "      <td>0.0</td>\n",
       "      <td>0.0</td>\n",
       "      <td>0.0</td>\n",
       "      <td>0.0</td>\n",
       "      <td>0.0</td>\n",
       "      <td>0.0</td>\n",
       "      <td>0.0</td>\n",
       "      <td>0.0</td>\n",
       "      <td>0.0</td>\n",
       "      <td>0.0</td>\n",
       "      <td>...</td>\n",
       "      <td>0.0</td>\n",
       "      <td>0.0</td>\n",
       "      <td>0.0</td>\n",
       "      <td>0.0</td>\n",
       "      <td>0.0</td>\n",
       "      <td>0.0</td>\n",
       "      <td>0.0</td>\n",
       "      <td>0.0</td>\n",
       "      <td>0.0</td>\n",
       "      <td>0.0</td>\n",
       "    </tr>\n",
       "    <tr>\n",
       "      <th>240</th>\n",
       "      <td>0.0</td>\n",
       "      <td>0.0</td>\n",
       "      <td>0.0</td>\n",
       "      <td>0.0</td>\n",
       "      <td>0.0</td>\n",
       "      <td>0.0</td>\n",
       "      <td>0.0</td>\n",
       "      <td>0.0</td>\n",
       "      <td>0.0</td>\n",
       "      <td>0.0</td>\n",
       "      <td>...</td>\n",
       "      <td>0.0</td>\n",
       "      <td>0.0</td>\n",
       "      <td>0.0</td>\n",
       "      <td>0.0</td>\n",
       "      <td>0.0</td>\n",
       "      <td>0.0</td>\n",
       "      <td>0.0</td>\n",
       "      <td>0.0</td>\n",
       "      <td>0.0</td>\n",
       "      <td>0.0</td>\n",
       "    </tr>\n",
       "    <tr>\n",
       "      <th>1309</th>\n",
       "      <td>0.0</td>\n",
       "      <td>0.0</td>\n",
       "      <td>0.0</td>\n",
       "      <td>0.0</td>\n",
       "      <td>0.0</td>\n",
       "      <td>0.0</td>\n",
       "      <td>0.0</td>\n",
       "      <td>0.0</td>\n",
       "      <td>0.0</td>\n",
       "      <td>0.0</td>\n",
       "      <td>...</td>\n",
       "      <td>0.0</td>\n",
       "      <td>0.0</td>\n",
       "      <td>0.0</td>\n",
       "      <td>0.0</td>\n",
       "      <td>0.0</td>\n",
       "      <td>0.0</td>\n",
       "      <td>0.0</td>\n",
       "      <td>0.0</td>\n",
       "      <td>0.0</td>\n",
       "      <td>0.0</td>\n",
       "    </tr>\n",
       "  </tbody>\n",
       "</table>\n",
       "<p>5 rows × 3763 columns</p>\n",
       "</div>"
      ],
      "text/plain": [
       "       00  000  008704050406  0089  0121  01223585236  01223585334   02  0207  \\\n",
       "1438  0.0  0.0           0.0   0.0   0.0          0.0          0.0  0.0   0.0   \n",
       "431   0.0  0.0           0.0   0.0   0.0          0.0          0.0  0.0   0.0   \n",
       "194   0.0  0.0           0.0   0.0   0.0          0.0          0.0  0.0   0.0   \n",
       "240   0.0  0.0           0.0   0.0   0.0          0.0          0.0  0.0   0.0   \n",
       "1309  0.0  0.0           0.0   0.0   0.0          0.0          0.0  0.0   0.0   \n",
       "\n",
       "      02073162414  ...  yun  yup  zealand  zed  zeros  zindgi  zouk  zyada  \\\n",
       "1438          0.0  ...  0.0  0.0      0.0  0.0    0.0     0.0   0.0    0.0   \n",
       "431           0.0  ...  0.0  0.0      0.0  0.0    0.0     0.0   0.0    0.0   \n",
       "194           0.0  ...  0.0  0.0      0.0  0.0    0.0     0.0   0.0    0.0   \n",
       "240           0.0  ...  0.0  0.0      0.0  0.0    0.0     0.0   0.0    0.0   \n",
       "1309          0.0  ...  0.0  0.0      0.0  0.0    0.0     0.0   0.0    0.0   \n",
       "\n",
       "       ú1  〨ud  \n",
       "1438  0.0  0.0  \n",
       "431   0.0  0.0  \n",
       "194   0.0  0.0  \n",
       "240   0.0  0.0  \n",
       "1309  0.0  0.0  \n",
       "\n",
       "[5 rows x 3763 columns]"
      ]
     },
     "execution_count": 62,
     "metadata": {},
     "output_type": "execute_result"
    }
   ],
   "source": [
    "df = pd.DataFrame(X_train_tfidf.toarray(),index=X_train.index, columns=words)\n",
    "df.head()"
   ]
  },
  {
   "cell_type": "code",
   "execution_count": 63,
   "id": "5c4513b9-b4eb-4699-ad65-44d860f9876c",
   "metadata": {},
   "outputs": [
    {
     "data": {
      "text/plain": [
       "to                    470.0\n",
       "you                   322.0\n",
       "call                  270.0\n",
       "the                   218.0\n",
       "your                  199.0\n",
       "                      ...  \n",
       "model                   1.0\n",
       "mode                    1.0\n",
       "mobypobox734ls27yf      1.0\n",
       "cps                     1.0\n",
       "〨ud                     1.0\n",
       "Name: doc_frequency, Length: 3763, dtype: float64"
      ]
     },
     "execution_count": 63,
     "metadata": {},
     "output_type": "execute_result"
    }
   ],
   "source": [
    "df.loc[\"doc_frequency\"] = (df > 0).sum() # sums per row\n",
    "df.loc[\"doc_frequency\"].sort_values(ascending=False)"
   ]
  },
  {
   "cell_type": "markdown",
   "id": "121c8a70-f581-4648-80fc-0044e95e1ce6",
   "metadata": {},
   "source": [
    "fit the model on the tfidf matrix from x_train and y train"
   ]
  },
  {
   "cell_type": "code",
   "execution_count": 64,
   "id": "5b828f84-dcd6-46ef-888b-0c5dfa4c33d4",
   "metadata": {},
   "outputs": [
    {
     "data": {
      "text/plain": [
       "1438    spam\n",
       "431      ham\n",
       "194      ham\n",
       "240      ham\n",
       "1309    spam\n",
       "        ... \n",
       "763     spam\n",
       "835     spam\n",
       "1216    spam\n",
       "559      ham\n",
       "684      ham\n",
       "Name: label, Length: 1045, dtype: object"
      ]
     },
     "execution_count": 64,
     "metadata": {},
     "output_type": "execute_result"
    }
   ],
   "source": [
    "y_train"
   ]
  },
  {
   "cell_type": "code",
   "execution_count": 65,
   "id": "26ab04af-494a-4e4c-954d-3def12fae520",
   "metadata": {},
   "outputs": [],
   "source": [
    "\n",
    "mod = RandomForestClassifier(n_estimators=100).fit(X_train_tfidf,y_train)"
   ]
  },
  {
   "cell_type": "markdown",
   "id": "bdd17b74-62b4-45ab-a0fa-c57b24d72c89",
   "metadata": {},
   "source": [
    "Lets check the model on the train data. "
   ]
  },
  {
   "cell_type": "code",
   "execution_count": 66,
   "id": "ef403c0c-8cde-4dee-ad2e-b5ba86633263",
   "metadata": {},
   "outputs": [
    {
     "data": {
      "text/plain": [
       "1.0"
      ]
     },
     "execution_count": 66,
     "metadata": {},
     "output_type": "execute_result"
    }
   ],
   "source": [
    "y_pred = mod.predict(X_train_tfidf)\n",
    "\n",
    "accuracy_score(y_train,y_pred)"
   ]
  },
  {
   "cell_type": "markdown",
   "id": "b4d2fdd9-7aae-47e0-a492-e885b959109d",
   "metadata": {},
   "source": [
    "uuuuuuuu, so 100 precision on already seen data. "
   ]
  },
  {
   "cell_type": "code",
   "execution_count": 67,
   "id": "34f679bc-df54-46dd-a218-30edfe5f5923",
   "metadata": {},
   "outputs": [],
   "source": [
    "X_test_tfidf = vectorizer.transform(X_test)\n",
    "y_pred = mod.predict(X_test_tfidf)"
   ]
  },
  {
   "cell_type": "code",
   "execution_count": 68,
   "id": "9f61045d-8ad0-4b6c-83e1-9e8fbe119529",
   "metadata": {},
   "outputs": [
    {
     "data": {
      "text/plain": [
       "0.9532293986636972"
      ]
     },
     "execution_count": 68,
     "metadata": {},
     "output_type": "execute_result"
    }
   ],
   "source": [
    "accuracy_score(y_test,y_pred)"
   ]
  },
  {
   "cell_type": "markdown",
   "id": "7d51280e-5a5e-4039-b5b5-3b5bc0fb2db4",
   "metadata": {},
   "source": [
    "Thats more like it."
   ]
  },
  {
   "cell_type": "markdown",
   "id": "36e20736-642f-4bea-843a-08f7a8ce62c0",
   "metadata": {},
   "source": [
    "Note that for evaluating data on the vectorizer preprocessing we no longer call fit_transform, but rather transform, the preprocessor has already been fit for the training data, for test data we only want to transform. "
   ]
  },
  {
   "cell_type": "markdown",
   "id": "dec9fd5c-0b29-42d8-9054-3e052982a725",
   "metadata": {},
   "source": [
    "Also note, we can also use a pipeline object to concatenate classifier fitting and transformations and preprocessing. "
   ]
  },
  {
   "cell_type": "markdown",
   "id": "deb719be-c3dd-4379-b2ed-3e78287263d9",
   "metadata": {},
   "source": [
    "### Creating the actual pipeline "
   ]
  },
  {
   "cell_type": "code",
   "execution_count": 107,
   "id": "075a224c-683c-44b3-9865-97cdc33b74eb",
   "metadata": {},
   "outputs": [],
   "source": [
    "classifierRF = Pipeline(\n",
    "    [\n",
    "        (\"tfidf\",TfidfVectorizer()),\n",
    "        # better with gini than entropy\n",
    "        (\"classifier\",RandomForestClassifier(n_estimators=100,random_state=0,criterion=\"gini\"))\n",
    "    ]\n",
    ")\n",
    "\n"
   ]
  },
  {
   "cell_type": "code",
   "execution_count": 101,
   "id": "b5bd6045-1fdf-4599-8c00-4d930bdfbdf6",
   "metadata": {},
   "outputs": [
    {
     "data": {
      "text/html": [
       "<style>#sk-container-id-7 {color: black;}#sk-container-id-7 pre{padding: 0;}#sk-container-id-7 div.sk-toggleable {background-color: white;}#sk-container-id-7 label.sk-toggleable__label {cursor: pointer;display: block;width: 100%;margin-bottom: 0;padding: 0.3em;box-sizing: border-box;text-align: center;}#sk-container-id-7 label.sk-toggleable__label-arrow:before {content: \"▸\";float: left;margin-right: 0.25em;color: #696969;}#sk-container-id-7 label.sk-toggleable__label-arrow:hover:before {color: black;}#sk-container-id-7 div.sk-estimator:hover label.sk-toggleable__label-arrow:before {color: black;}#sk-container-id-7 div.sk-toggleable__content {max-height: 0;max-width: 0;overflow: hidden;text-align: left;background-color: #f0f8ff;}#sk-container-id-7 div.sk-toggleable__content pre {margin: 0.2em;color: black;border-radius: 0.25em;background-color: #f0f8ff;}#sk-container-id-7 input.sk-toggleable__control:checked~div.sk-toggleable__content {max-height: 200px;max-width: 100%;overflow: auto;}#sk-container-id-7 input.sk-toggleable__control:checked~label.sk-toggleable__label-arrow:before {content: \"▾\";}#sk-container-id-7 div.sk-estimator input.sk-toggleable__control:checked~label.sk-toggleable__label {background-color: #d4ebff;}#sk-container-id-7 div.sk-label input.sk-toggleable__control:checked~label.sk-toggleable__label {background-color: #d4ebff;}#sk-container-id-7 input.sk-hidden--visually {border: 0;clip: rect(1px 1px 1px 1px);clip: rect(1px, 1px, 1px, 1px);height: 1px;margin: -1px;overflow: hidden;padding: 0;position: absolute;width: 1px;}#sk-container-id-7 div.sk-estimator {font-family: monospace;background-color: #f0f8ff;border: 1px dotted black;border-radius: 0.25em;box-sizing: border-box;margin-bottom: 0.5em;}#sk-container-id-7 div.sk-estimator:hover {background-color: #d4ebff;}#sk-container-id-7 div.sk-parallel-item::after {content: \"\";width: 100%;border-bottom: 1px solid gray;flex-grow: 1;}#sk-container-id-7 div.sk-label:hover label.sk-toggleable__label {background-color: #d4ebff;}#sk-container-id-7 div.sk-serial::before {content: \"\";position: absolute;border-left: 1px solid gray;box-sizing: border-box;top: 0;bottom: 0;left: 50%;z-index: 0;}#sk-container-id-7 div.sk-serial {display: flex;flex-direction: column;align-items: center;background-color: white;padding-right: 0.2em;padding-left: 0.2em;position: relative;}#sk-container-id-7 div.sk-item {position: relative;z-index: 1;}#sk-container-id-7 div.sk-parallel {display: flex;align-items: stretch;justify-content: center;background-color: white;position: relative;}#sk-container-id-7 div.sk-item::before, #sk-container-id-7 div.sk-parallel-item::before {content: \"\";position: absolute;border-left: 1px solid gray;box-sizing: border-box;top: 0;bottom: 0;left: 50%;z-index: -1;}#sk-container-id-7 div.sk-parallel-item {display: flex;flex-direction: column;z-index: 1;position: relative;background-color: white;}#sk-container-id-7 div.sk-parallel-item:first-child::after {align-self: flex-end;width: 50%;}#sk-container-id-7 div.sk-parallel-item:last-child::after {align-self: flex-start;width: 50%;}#sk-container-id-7 div.sk-parallel-item:only-child::after {width: 0;}#sk-container-id-7 div.sk-dashed-wrapped {border: 1px dashed gray;margin: 0 0.4em 0.5em 0.4em;box-sizing: border-box;padding-bottom: 0.4em;background-color: white;}#sk-container-id-7 div.sk-label label {font-family: monospace;font-weight: bold;display: inline-block;line-height: 1.2em;}#sk-container-id-7 div.sk-label-container {text-align: center;}#sk-container-id-7 div.sk-container {/* jupyter's `normalize.less` sets `[hidden] { display: none; }` but bootstrap.min.css set `[hidden] { display: none !important; }` so we also need the `!important` here to be able to override the default hidden behavior on the sphinx rendered scikit-learn.org. See: https://github.com/scikit-learn/scikit-learn/issues/21755 */display: inline-block !important;position: relative;}#sk-container-id-7 div.sk-text-repr-fallback {display: none;}</style><div id=\"sk-container-id-7\" class=\"sk-top-container\"><div class=\"sk-text-repr-fallback\"><pre>Pipeline(steps=[(&#x27;tfidf&#x27;, TfidfVectorizer()),\n",
       "                (&#x27;classifier&#x27;,\n",
       "                 RandomForestClassifier(criterion=&#x27;entropy&#x27;, random_state=0))])</pre><b>In a Jupyter environment, please rerun this cell to show the HTML representation or trust the notebook. <br />On GitHub, the HTML representation is unable to render, please try loading this page with nbviewer.org.</b></div><div class=\"sk-container\" hidden><div class=\"sk-item sk-dashed-wrapped\"><div class=\"sk-label-container\"><div class=\"sk-label sk-toggleable\"><input class=\"sk-toggleable__control sk-hidden--visually\" id=\"sk-estimator-id-17\" type=\"checkbox\" ><label for=\"sk-estimator-id-17\" class=\"sk-toggleable__label sk-toggleable__label-arrow\">Pipeline</label><div class=\"sk-toggleable__content\"><pre>Pipeline(steps=[(&#x27;tfidf&#x27;, TfidfVectorizer()),\n",
       "                (&#x27;classifier&#x27;,\n",
       "                 RandomForestClassifier(criterion=&#x27;entropy&#x27;, random_state=0))])</pre></div></div></div><div class=\"sk-serial\"><div class=\"sk-item\"><div class=\"sk-estimator sk-toggleable\"><input class=\"sk-toggleable__control sk-hidden--visually\" id=\"sk-estimator-id-18\" type=\"checkbox\" ><label for=\"sk-estimator-id-18\" class=\"sk-toggleable__label sk-toggleable__label-arrow\">TfidfVectorizer</label><div class=\"sk-toggleable__content\"><pre>TfidfVectorizer()</pre></div></div></div><div class=\"sk-item\"><div class=\"sk-estimator sk-toggleable\"><input class=\"sk-toggleable__control sk-hidden--visually\" id=\"sk-estimator-id-19\" type=\"checkbox\" ><label for=\"sk-estimator-id-19\" class=\"sk-toggleable__label sk-toggleable__label-arrow\">RandomForestClassifier</label><div class=\"sk-toggleable__content\"><pre>RandomForestClassifier(criterion=&#x27;entropy&#x27;, random_state=0)</pre></div></div></div></div></div></div></div>"
      ],
      "text/plain": [
       "Pipeline(steps=[('tfidf', TfidfVectorizer()),\n",
       "                ('classifier',\n",
       "                 RandomForestClassifier(criterion='entropy', random_state=0))])"
      ]
     },
     "execution_count": 101,
     "metadata": {},
     "output_type": "execute_result"
    }
   ],
   "source": [
    "classifierRF.fit(X_train,y_train)"
   ]
  },
  {
   "cell_type": "code",
   "execution_count": 102,
   "id": "66934e6e-553c-4bd1-944c-ac3884f6dcad",
   "metadata": {},
   "outputs": [],
   "source": [
    "y_pred = classifierRF.predict(X_test)"
   ]
  },
  {
   "cell_type": "code",
   "execution_count": 103,
   "id": "365178c2-f26d-4c6f-b4f1-74747cc4a1a8",
   "metadata": {},
   "outputs": [
    {
     "data": {
      "text/plain": [
       "0.9487750556792873"
      ]
     },
     "execution_count": 103,
     "metadata": {},
     "output_type": "execute_result"
    }
   ],
   "source": [
    "accuracy_score(y_test,y_pred)"
   ]
  },
  {
   "cell_type": "code",
   "execution_count": 104,
   "id": "986fe6f4-cfce-4b5d-a68c-593d1481e937",
   "metadata": {},
   "outputs": [
    {
     "data": {
      "text/plain": [
       "0.9901477832512315"
      ]
     },
     "execution_count": 104,
     "metadata": {},
     "output_type": "execute_result"
    }
   ],
   "source": [
    "precision_score(y_test,y_pred, pos_label=\"spam\")"
   ]
  },
  {
   "cell_type": "code",
   "execution_count": 105,
   "id": "49391ebc-a0d2-4fe8-8fd3-348902b8eb5d",
   "metadata": {},
   "outputs": [
    {
     "data": {
      "text/plain": [
       "0.9054054054054054"
      ]
     },
     "execution_count": 105,
     "metadata": {},
     "output_type": "execute_result"
    }
   ],
   "source": [
    "recall_score(y_test,y_pred, pos_label=\"spam\")"
   ]
  },
  {
   "cell_type": "code",
   "execution_count": 106,
   "id": "477b1e73-c5e6-44f5-aec9-2067a1fd2143",
   "metadata": {},
   "outputs": [
    {
     "data": {
      "text/plain": [
       "{'precision': 0.9901477832512315,\n",
       " 'recall': 0.9054054054054054,\n",
       " 'f1-score': 0.9458823529411764,\n",
       " 'support': 222.0}"
      ]
     },
     "execution_count": 106,
     "metadata": {},
     "output_type": "execute_result"
    }
   ],
   "source": [
    "report = classification_report(y_test, y_pred, output_dict=True)\n",
    "report[\"spam\"]"
   ]
  },
  {
   "cell_type": "code",
   "execution_count": null,
   "id": "59a825a3-04df-484d-baf3-7c96f5e1a437",
   "metadata": {},
   "outputs": [],
   "source": []
  },
  {
   "cell_type": "markdown",
   "id": "94d024dd-0e13-4470-9c40-507d03704e7f",
   "metadata": {},
   "source": [
    "## Support vector machine "
   ]
  },
  {
   "cell_type": "code",
   "execution_count": 108,
   "id": "dba92739-1b14-4cbb-b908-10593ec6b3c6",
   "metadata": {},
   "outputs": [
    {
     "data": {
      "text/plain": [
       "label\n",
       "ham     747\n",
       "spam    747\n",
       "Name: count, dtype: int64"
      ]
     },
     "execution_count": 108,
     "metadata": {},
     "output_type": "execute_result"
    }
   ],
   "source": [
    "data.label.value_counts()"
   ]
  },
  {
   "cell_type": "code",
   "execution_count": 182,
   "id": "39f85211-415b-4891-bf87-18101bcf5aa5",
   "metadata": {},
   "outputs": [],
   "source": []
  },
  {
   "cell_type": "code",
   "execution_count": 109,
   "id": "b8060ba2-a20d-4e45-a6a8-a865b76278c3",
   "metadata": {},
   "outputs": [],
   "source": [
    "vectorizer = TfidfVectorizer()\n",
    "X_train_tfidf = vectorizer.fit_transform(X_train)"
   ]
  },
  {
   "cell_type": "code",
   "execution_count": 110,
   "id": "87cfefee-f50d-4370-bccd-bd0470d25548",
   "metadata": {},
   "outputs": [],
   "source": [
    "mod = svm.SVC(random_state=0).fit(X_train_tfidf,y_train)"
   ]
  },
  {
   "cell_type": "code",
   "execution_count": 111,
   "id": "47f1afbd-a02f-4c63-b0a7-53bc80fcfe48",
   "metadata": {},
   "outputs": [],
   "source": [
    "y_pred = mod.predict(X_test_tfidf)"
   ]
  },
  {
   "cell_type": "code",
   "execution_count": 112,
   "id": "d9f19ed0-63eb-4ce2-bf72-e97fb07c9fb2",
   "metadata": {},
   "outputs": [
    {
     "data": {
      "text/plain": [
       "449"
      ]
     },
     "execution_count": 112,
     "metadata": {},
     "output_type": "execute_result"
    }
   ],
   "source": [
    "len(y_pred)"
   ]
  },
  {
   "cell_type": "code",
   "execution_count": null,
   "id": "7f959961-a825-4b6c-b945-390680eeb2aa",
   "metadata": {},
   "outputs": [],
   "source": [
    "\n"
   ]
  },
  {
   "cell_type": "markdown",
   "id": "8fd76a17-7f0d-4b64-aa44-5f39979dfcd5",
   "metadata": {},
   "source": [
    "LEts be tidy and use a Pipeline Object"
   ]
  },
  {
   "cell_type": "code",
   "execution_count": 113,
   "id": "9a4f4fda-db63-4b77-90ed-4340cfd8a00c",
   "metadata": {},
   "outputs": [],
   "source": [
    "classifierSVC = Pipeline(\n",
    "    [\n",
    "        (\"tfidf\",TfidfVectorizer()),\n",
    "        (\"svc\",svm.SVC(random_state=0))\n",
    "    ]\n",
    ")\n"
   ]
  },
  {
   "cell_type": "code",
   "execution_count": 268,
   "id": "a3856c02-7b37-4adf-9ba6-d235b63bc0d5",
   "metadata": {},
   "outputs": [
    {
     "data": {
      "text/plain": [
       "(1045,)"
      ]
     },
     "execution_count": 268,
     "metadata": {},
     "output_type": "execute_result"
    }
   ],
   "source": []
  },
  {
   "cell_type": "code",
   "execution_count": 114,
   "id": "bcebaebb-9302-466a-85da-291c848d5501",
   "metadata": {},
   "outputs": [],
   "source": [
    "svc_mod = classifierSVC.fit(X_train,y_train)"
   ]
  },
  {
   "cell_type": "code",
   "execution_count": 115,
   "id": "bf033963-dd43-4404-bb85-aca278833595",
   "metadata": {},
   "outputs": [],
   "source": [
    "y_pred = svc_mod.predict(X_test)"
   ]
  },
  {
   "cell_type": "code",
   "execution_count": 117,
   "id": "cdd52e0d-191b-47e9-89d0-44d9a177aeee",
   "metadata": {},
   "outputs": [
    {
     "name": "stdout",
     "output_type": "stream",
     "text": [
      "{'f1-score': 0.9678899082568808,\n",
      " 'precision': 0.985981308411215,\n",
      " 'recall': 0.9504504504504504,\n",
      " 'support': 222.0}\n",
      "{'f1-score': 0.9696969696969696,\n",
      " 'precision': 0.9531914893617022,\n",
      " 'recall': 0.986784140969163,\n",
      " 'support': 227.0}\n"
     ]
    },
    {
     "data": {
      "text/plain": [
       "{'ham': {'precision': 0.9531914893617022,\n",
       "  'recall': 0.986784140969163,\n",
       "  'f1-score': 0.9696969696969696,\n",
       "  'support': 227.0},\n",
       " 'spam': {'precision': 0.985981308411215,\n",
       "  'recall': 0.9504504504504504,\n",
       "  'f1-score': 0.9678899082568808,\n",
       "  'support': 222.0},\n",
       " 'accuracy': 0.9688195991091314,\n",
       " 'macro avg': {'precision': 0.9695863988864586,\n",
       "  'recall': 0.9686172957098067,\n",
       "  'f1-score': 0.9687934389769253,\n",
       "  'support': 449.0},\n",
       " 'weighted avg': {'precision': 0.9694038275109045,\n",
       "  'recall': 0.9688195991091314,\n",
       "  'f1-score': 0.9688035005662353,\n",
       "  'support': 449.0}}"
      ]
     },
     "execution_count": 117,
     "metadata": {},
     "output_type": "execute_result"
    }
   ],
   "source": [
    "report = classification_report(y_test, y_pred, output_dict=True)\n",
    "pprint(report[\"spam\"])\n",
    "pprint(report[\"ham\"])\n",
    "report"
   ]
  },
  {
   "cell_type": "markdown",
   "id": "a3159eb1-0549-4e72-a3b6-a8ab6ad7a99e",
   "metadata": {},
   "source": [
    "### Let us be tidy "
   ]
  },
  {
   "cell_type": "code",
   "execution_count": 120,
   "id": "490c52dd-8e50-4271-94ea-d2b9929ad1e9",
   "metadata": {},
   "outputs": [],
   "source": [
    "classifierRF = Pipeline(\n",
    "    [\n",
    "        (\"tfidf\",TfidfVectorizer()),\n",
    "        (\"classifier\",RandomForestClassifier(n_estimators=100,random_state=0))\n",
    "    ]\n",
    ")\n",
    "\n",
    "classifierSVC = Pipeline(\n",
    "    [\n",
    "        (\"tfidf\",TfidfVectorizer()),\n",
    "        (\"svc\",svm.SVC(random_state=0))\n",
    "    ]\n",
    ")\n",
    "\n",
    "rf_mod = classifierRF.fit(X_train,y_train)\n",
    "y_pred_rf = rf_mod.predict(X_test)\n",
    "report_rf = classification_report(y_test, y_pred_rf, output_dict=True)\n",
    "\n",
    "svc_mod = classifierSVC.fit(X_train,y_train)\n",
    "y_pred_svc = svc_mod.predict(X_test)\n",
    "report_svc = classification_report(y_test, y_pred_svc, output_dict=True)"
   ]
  },
  {
   "cell_type": "code",
   "execution_count": 121,
   "id": "7f67e096-1fab-4da0-817a-9a04c391060c",
   "metadata": {},
   "outputs": [
    {
     "data": {
      "text/plain": [
       "{'ham': {'precision': 0.9116465863453815,\n",
       "  'recall': 1.0,\n",
       "  'f1-score': 0.9537815126050421,\n",
       "  'support': 227.0},\n",
       " 'spam': {'precision': 1.0,\n",
       "  'recall': 0.9009009009009009,\n",
       "  'f1-score': 0.947867298578199,\n",
       "  'support': 222.0},\n",
       " 'accuracy': 0.9510022271714922,\n",
       " 'macro avg': {'precision': 0.9558232931726908,\n",
       "  'recall': 0.9504504504504505,\n",
       "  'f1-score': 0.9508244055916205,\n",
       "  'support': 449.0},\n",
       " 'weighted avg': {'precision': 0.9553313476623643,\n",
       "  'recall': 0.9510022271714922,\n",
       "  'f1-score': 0.950857335513819,\n",
       "  'support': 449.0}}"
      ]
     },
     "execution_count": 121,
     "metadata": {},
     "output_type": "execute_result"
    }
   ],
   "source": [
    "report_rf"
   ]
  },
  {
   "cell_type": "code",
   "execution_count": 122,
   "id": "576c24d7-9325-4295-922e-87a13b0811cc",
   "metadata": {},
   "outputs": [
    {
     "data": {
      "text/plain": [
       "{'ham': {'precision': 0.9531914893617022,\n",
       "  'recall': 0.986784140969163,\n",
       "  'f1-score': 0.9696969696969696,\n",
       "  'support': 227.0},\n",
       " 'spam': {'precision': 0.985981308411215,\n",
       "  'recall': 0.9504504504504504,\n",
       "  'f1-score': 0.9678899082568808,\n",
       "  'support': 222.0},\n",
       " 'accuracy': 0.9688195991091314,\n",
       " 'macro avg': {'precision': 0.9695863988864586,\n",
       "  'recall': 0.9686172957098067,\n",
       "  'f1-score': 0.9687934389769253,\n",
       "  'support': 449.0},\n",
       " 'weighted avg': {'precision': 0.9694038275109045,\n",
       "  'recall': 0.9688195991091314,\n",
       "  'f1-score': 0.9688035005662353,\n",
       "  'support': 449.0}}"
      ]
     },
     "execution_count": 122,
     "metadata": {},
     "output_type": "execute_result"
    }
   ],
   "source": [
    "report_svc"
   ]
  },
  {
   "cell_type": "markdown",
   "id": "7f14eec6-ea46-49a9-86e3-2f3815fc6113",
   "metadata": {},
   "source": [
    "el svc no estan preciso como el rf, pero si es mas sensible, tiene menos falsos negativos. se prefiere el rf"
   ]
  }
 ],
 "metadata": {
  "kernelspec": {
   "display_name": "Python 3 (ipykernel)",
   "language": "python",
   "name": "python3"
  },
  "language_info": {
   "codemirror_mode": {
    "name": "ipython",
    "version": 3
   },
   "file_extension": ".py",
   "mimetype": "text/x-python",
   "name": "python",
   "nbconvert_exporter": "python",
   "pygments_lexer": "ipython3",
   "version": "3.9.16"
  }
 },
 "nbformat": 4,
 "nbformat_minor": 5
}
