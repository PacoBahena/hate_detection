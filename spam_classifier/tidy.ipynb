{
 "cells": [
  {
   "cell_type": "code",
   "execution_count": 11,
   "id": "e2886e07-93e9-4656-92d1-9c02a802f813",
   "metadata": {},
   "outputs": [],
   "source": [
    "from pprint import pprint\n",
    "import pandas as pd\n",
    "\n",
    "from sklearn.feature_extraction.text import TfidfVectorizer\n",
    "from sklearn.ensemble import RandomForestClassifier\n",
    "from sklearn import svm\n",
    "from sklearn.pipeline import Pipeline\n",
    "from sklearn.compose import ColumnTransformer\n",
    "from sklearn.preprocessing import StandardScaler, FunctionTransformer\n",
    "\n",
    "from sklearn.model_selection import train_test_split\n",
    "\n",
    "from sklearn.metrics \\\n",
    "import classification_report, recall_score, accuracy_score,precision_score, make_scorer,confusion_matrix\n",
    "from sklearn.model_selection import GridSearchCV\n"
   ]
  },
  {
   "cell_type": "code",
   "execution_count": 5,
   "id": "0389fff1-5cef-4102-8a70-f7d1f1c0c68a",
   "metadata": {},
   "outputs": [],
   "source": [
    "data = pd.read_csv(\"processed_dataset.csv\")"
   ]
  },
  {
   "cell_type": "code",
   "execution_count": 5,
   "id": "6918ef35-3ceb-4fc3-a521-8af2985e2be5",
   "metadata": {},
   "outputs": [
    {
     "data": {
      "text/plain": [
       "label\n",
       "ham     747\n",
       "spam    747\n",
       "Name: count, dtype: int64"
      ]
     },
     "execution_count": 5,
     "metadata": {},
     "output_type": "execute_result"
    }
   ],
   "source": [
    "data.label.value_counts()"
   ]
  },
  {
   "cell_type": "code",
   "execution_count": 7,
   "id": "af7066a7-db64-4cbb-b657-463558df0c13",
   "metadata": {},
   "outputs": [
    {
     "data": {
      "text/html": [
       "<div>\n",
       "<style scoped>\n",
       "    .dataframe tbody tr th:only-of-type {\n",
       "        vertical-align: middle;\n",
       "    }\n",
       "\n",
       "    .dataframe tbody tr th {\n",
       "        vertical-align: top;\n",
       "    }\n",
       "\n",
       "    .dataframe thead th {\n",
       "        text-align: right;\n",
       "    }\n",
       "</style>\n",
       "<table border=\"1\" class=\"dataframe\">\n",
       "  <thead>\n",
       "    <tr style=\"text-align: right;\">\n",
       "      <th></th>\n",
       "      <th>label</th>\n",
       "      <th>message</th>\n",
       "      <th>length</th>\n",
       "      <th>punct</th>\n",
       "    </tr>\n",
       "  </thead>\n",
       "  <tbody>\n",
       "    <tr>\n",
       "      <th>0</th>\n",
       "      <td>ham</td>\n",
       "      <td>Ugh just got outta class</td>\n",
       "      <td>24</td>\n",
       "      <td>0</td>\n",
       "    </tr>\n",
       "    <tr>\n",
       "      <th>1</th>\n",
       "      <td>ham</td>\n",
       "      <td>You have to pls make a note of all she.s expos...</td>\n",
       "      <td>166</td>\n",
       "      <td>5</td>\n",
       "    </tr>\n",
       "    <tr>\n",
       "      <th>2</th>\n",
       "      <td>ham</td>\n",
       "      <td>Hey whats up? U sleeping all morning?</td>\n",
       "      <td>37</td>\n",
       "      <td>2</td>\n",
       "    </tr>\n",
       "    <tr>\n",
       "      <th>3</th>\n",
       "      <td>ham</td>\n",
       "      <td>Ok lor...</td>\n",
       "      <td>9</td>\n",
       "      <td>3</td>\n",
       "    </tr>\n",
       "    <tr>\n",
       "      <th>4</th>\n",
       "      <td>ham</td>\n",
       "      <td>You are not bothering me but you have to trust...</td>\n",
       "      <td>63</td>\n",
       "      <td>2</td>\n",
       "    </tr>\n",
       "  </tbody>\n",
       "</table>\n",
       "</div>"
      ],
      "text/plain": [
       "  label                                            message  length  punct\n",
       "0   ham                           Ugh just got outta class      24      0\n",
       "1   ham  You have to pls make a note of all she.s expos...     166      5\n",
       "2   ham              Hey whats up? U sleeping all morning?      37      2\n",
       "3   ham                                          Ok lor...       9      3\n",
       "4   ham  You are not bothering me but you have to trust...      63      2"
      ]
     },
     "execution_count": 7,
     "metadata": {},
     "output_type": "execute_result"
    }
   ],
   "source": [
    "data.head()"
   ]
  },
  {
   "cell_type": "code",
   "execution_count": 62,
   "id": "8b5f35ba-1dce-4978-95fd-c570ce29a14e",
   "metadata": {},
   "outputs": [
    {
     "data": {
      "text/html": [
       "<div>\n",
       "<style scoped>\n",
       "    .dataframe tbody tr th:only-of-type {\n",
       "        vertical-align: middle;\n",
       "    }\n",
       "\n",
       "    .dataframe tbody tr th {\n",
       "        vertical-align: top;\n",
       "    }\n",
       "\n",
       "    .dataframe thead th {\n",
       "        text-align: right;\n",
       "    }\n",
       "</style>\n",
       "<table border=\"1\" class=\"dataframe\">\n",
       "  <thead>\n",
       "    <tr style=\"text-align: right;\">\n",
       "      <th></th>\n",
       "      <th>message</th>\n",
       "      <th>length</th>\n",
       "      <th>punct</th>\n",
       "    </tr>\n",
       "  </thead>\n",
       "  <tbody>\n",
       "    <tr>\n",
       "      <th>0</th>\n",
       "      <td>Ugh just got outta class</td>\n",
       "      <td>24</td>\n",
       "      <td>0</td>\n",
       "    </tr>\n",
       "    <tr>\n",
       "      <th>1</th>\n",
       "      <td>You have to pls make a note of all she.s expos...</td>\n",
       "      <td>166</td>\n",
       "      <td>5</td>\n",
       "    </tr>\n",
       "    <tr>\n",
       "      <th>2</th>\n",
       "      <td>Hey whats up? U sleeping all morning?</td>\n",
       "      <td>37</td>\n",
       "      <td>2</td>\n",
       "    </tr>\n",
       "    <tr>\n",
       "      <th>3</th>\n",
       "      <td>Ok lor...</td>\n",
       "      <td>9</td>\n",
       "      <td>3</td>\n",
       "    </tr>\n",
       "    <tr>\n",
       "      <th>4</th>\n",
       "      <td>You are not bothering me but you have to trust...</td>\n",
       "      <td>63</td>\n",
       "      <td>2</td>\n",
       "    </tr>\n",
       "    <tr>\n",
       "      <th>...</th>\n",
       "      <td>...</td>\n",
       "      <td>...</td>\n",
       "      <td>...</td>\n",
       "    </tr>\n",
       "    <tr>\n",
       "      <th>1489</th>\n",
       "      <td>Want explicit SEX in 30 secs? Ring 02073162414...</td>\n",
       "      <td>90</td>\n",
       "      <td>3</td>\n",
       "    </tr>\n",
       "    <tr>\n",
       "      <th>1490</th>\n",
       "      <td>ASKED 3MOBILE IF 0870 CHATLINES INCLU IN FREE ...</td>\n",
       "      <td>158</td>\n",
       "      <td>5</td>\n",
       "    </tr>\n",
       "    <tr>\n",
       "      <th>1491</th>\n",
       "      <td>Had your contract mobile 11 Mnths? Latest Moto...</td>\n",
       "      <td>160</td>\n",
       "      <td>8</td>\n",
       "    </tr>\n",
       "    <tr>\n",
       "      <th>1492</th>\n",
       "      <td>REMINDER FROM O2: To get 2.50 pounds free call...</td>\n",
       "      <td>147</td>\n",
       "      <td>3</td>\n",
       "    </tr>\n",
       "    <tr>\n",
       "      <th>1493</th>\n",
       "      <td>This is the 2nd time we have tried 2 contact u...</td>\n",
       "      <td>160</td>\n",
       "      <td>8</td>\n",
       "    </tr>\n",
       "  </tbody>\n",
       "</table>\n",
       "<p>1494 rows × 3 columns</p>\n",
       "</div>"
      ],
      "text/plain": [
       "                                                message  length  punct\n",
       "0                              Ugh just got outta class      24      0\n",
       "1     You have to pls make a note of all she.s expos...     166      5\n",
       "2                 Hey whats up? U sleeping all morning?      37      2\n",
       "3                                             Ok lor...       9      3\n",
       "4     You are not bothering me but you have to trust...      63      2\n",
       "...                                                 ...     ...    ...\n",
       "1489  Want explicit SEX in 30 secs? Ring 02073162414...      90      3\n",
       "1490  ASKED 3MOBILE IF 0870 CHATLINES INCLU IN FREE ...     158      5\n",
       "1491  Had your contract mobile 11 Mnths? Latest Moto...     160      8\n",
       "1492  REMINDER FROM O2: To get 2.50 pounds free call...     147      3\n",
       "1493  This is the 2nd time we have tried 2 contact u...     160      8\n",
       "\n",
       "[1494 rows x 3 columns]"
      ]
     },
     "execution_count": 62,
     "metadata": {},
     "output_type": "execute_result"
    }
   ],
   "source": [
    "data.loc[:,[\"message\",\"length\",\"punct\"]]"
   ]
  },
  {
   "cell_type": "markdown",
   "id": "83810567-b954-4d5a-9a81-a9a57b898e79",
   "metadata": {},
   "source": [
    "### Split data"
   ]
  },
  {
   "cell_type": "code",
   "execution_count": 6,
   "id": "1b6ad1f7-92b1-40fd-870f-ca3e83437f84",
   "metadata": {},
   "outputs": [],
   "source": [
    "X_train, X_test, y_train, y_test =\\\n",
    "train_test_split(data.loc[:,[\"message\",\"length\",\"punct\"]],data[\"label\"], test_size= 0.3, random_state= 0)"
   ]
  },
  {
   "cell_type": "code",
   "execution_count": 136,
   "id": "b36748ae-1065-4d16-8267-9f7393829381",
   "metadata": {},
   "outputs": [
    {
     "data": {
      "text/plain": [
       "pandas.core.series.Series"
      ]
     },
     "execution_count": 136,
     "metadata": {},
     "output_type": "execute_result"
    }
   ],
   "source": [
    "type(X_train[\"message\"].squeeze())"
   ]
  },
  {
   "cell_type": "code",
   "execution_count": 140,
   "id": "c428031e-70fa-4f65-8e28-6137768fc858",
   "metadata": {},
   "outputs": [
    {
     "data": {
      "text/plain": [
       "pandas.core.frame.DataFrame"
      ]
     },
     "execution_count": 140,
     "metadata": {},
     "output_type": "execute_result"
    }
   ],
   "source": [
    "type(X_train.loc[:,[\"message\"]])"
   ]
  },
  {
   "cell_type": "markdown",
   "id": "ea534787-76a2-46a2-84ae-7fd1a01b4fe7",
   "metadata": {},
   "source": [
    "### Define pipelines"
   ]
  },
  {
   "cell_type": "code",
   "execution_count": 45,
   "id": "05a3d6f5-6e62-44e5-80a9-18d2723f1d22",
   "metadata": {},
   "outputs": [],
   "source": [
    "numeric_features = [\"length\", \"punct\"]\n",
    "categorical_features = [\"message\"]\n",
    "\n",
    "numeric_transformer = Pipeline(\n",
    "    steps=[(\"scaler\", StandardScaler())]\n",
    ")\n",
    "\n",
    "categorical_transformer = Pipeline(\n",
    "    steps=[\n",
    "        (\"squeez\", FunctionTransformer(lambda x: x.squeeze())), # make sure you pass a series\n",
    "        (\"tfidf\",TfidfVectorizer())\n",
    "    ]\n",
    ")\n",
    "\n",
    "preprocessor = ColumnTransformer(\n",
    "    transformers=[\n",
    "        (\"num\", numeric_transformer, numeric_features),\n",
    "        (\"cat\", categorical_transformer, categorical_features)\n",
    "    ]\n",
    ")\n",
    "\n",
    "classifierRF = Pipeline(\n",
    "    [\n",
    "        (\"preprocessor\",preprocessor),\n",
    "        (\"classifier\",RandomForestClassifier(n_estimators=100,random_state=0))\n",
    "    ]\n",
    ")\n",
    "\n",
    "classifierSVC = Pipeline(\n",
    "    [\n",
    "        (\"preprocessor\",preprocessor),\n",
    "        (\"svc\",svm.SVC(random_state=0))\n",
    "    ]\n",
    ")\n"
   ]
  },
  {
   "cell_type": "markdown",
   "id": "4b197987-49f6-4d91-89cc-5fdbe16c9e76",
   "metadata": {},
   "source": [
    "### Applying 5 fld cross validation, with a hyperparameter search\n",
    "### Score metric to be used is precision score"
   ]
  },
  {
   "cell_type": "code",
   "execution_count": 46,
   "id": "9530ca63-6999-463f-b083-63fad87ccdd4",
   "metadata": {},
   "outputs": [],
   "source": [
    "param_grid_svc = {\n",
    "    \"svc__C\": [1, 10, 100],\n",
    "    \"svc__kernel\": ['linear', 'rbf', 'sigmoid'],\n",
    "    \"svc__gamma\": [\"auto\",\"scale\"]\n",
    "}\n",
    "best_svc = GridSearchCV(classifierSVC, param_grid_svc,n_jobs=8,cv=5,scoring=make_scorer(precision_score,pos_label=\"spam\"))"
   ]
  },
  {
   "cell_type": "markdown",
   "id": "4e951c3a-1f35-4d8b-a721-f1d3320ef0c5",
   "metadata": {},
   "source": [
    "### Fit"
   ]
  },
  {
   "cell_type": "code",
   "execution_count": 47,
   "id": "6c496d73-5a14-4820-89e5-22a54917bbe1",
   "metadata": {},
   "outputs": [
    {
     "name": "stdout",
     "output_type": "stream",
     "text": [
      "using precission as the Best parameter to evaluate on (CV score=0.971):\n",
      "{'svc__C': 1, 'svc__gamma': 'auto', 'svc__kernel': 'linear'}\n"
     ]
    }
   ],
   "source": [
    "best_svc.fit(X_train, y_train)\n",
    "print(\"using precission as the Best parameter to evaluate on (CV score=%0.3f):\" % best_svc.best_score_)\n",
    "print(best_svc.best_params_)"
   ]
  },
  {
   "cell_type": "code",
   "execution_count": 48,
   "id": "f73d2a72-3091-4bfc-b49c-3ebab43b6173",
   "metadata": {},
   "outputs": [
    {
     "name": "stdout",
     "output_type": "stream",
     "text": [
      "              precision    recall  f1-score   support\n",
      "\n",
      "         ham       0.95      0.98      0.97       227\n",
      "        spam       0.98      0.95      0.96       222\n",
      "\n",
      "    accuracy                           0.96       449\n",
      "   macro avg       0.97      0.96      0.96       449\n",
      "weighted avg       0.96      0.96      0.96       449\n",
      "\n"
     ]
    }
   ],
   "source": [
    "y_pred_svc = best_svc.predict(X_test)\n",
    "y_pred_svc_train = best_svc.predict(X_train)\n",
    "report_svc = classification_report(y_test, y_pred_svc)\n",
    "print(report_svc)"
   ]
  },
  {
   "cell_type": "code",
   "execution_count": 50,
   "id": "fca13420-3d65-4aa9-be87-75ef4e61135c",
   "metadata": {},
   "outputs": [
    {
     "name": "stdout",
     "output_type": "stream",
     "text": [
      "array([[517,   3],\n",
      "       [  3, 522]])\n",
      "array([[223,   4],\n",
      "       [ 12, 210]])\n"
     ]
    }
   ],
   "source": [
    "pprint(confusion_matrix(y_train, y_pred_svc_train))\n",
    "pprint(confusion_matrix(y_test, y_pred_svc))"
   ]
  },
  {
   "cell_type": "markdown",
   "id": "d1d7b54a-82ba-4a95-a126-ff7f25663c40",
   "metadata": {},
   "source": [
    "### SVC Fit without CV or hyperparameter search"
   ]
  },
  {
   "cell_type": "code",
   "execution_count": 30,
   "id": "c0d7776b-067a-4212-8f2e-b5098dc8131c",
   "metadata": {},
   "outputs": [],
   "source": [
    "svc_mod = classifierSVC.fit(X_train,y_train)\n",
    "rf_mod = classifierRF.fit(X_train, y_train)"
   ]
  },
  {
   "cell_type": "code",
   "execution_count": 37,
   "id": "6fbc42d2-2a33-49ab-bf84-50f4b630ed67",
   "metadata": {},
   "outputs": [
    {
     "name": "stdout",
     "output_type": "stream",
     "text": [
      "              precision    recall  f1-score   support\n",
      "\n",
      "         ham       0.92      0.91      0.91       227\n",
      "        spam       0.91      0.92      0.91       222\n",
      "\n",
      "    accuracy                           0.91       449\n",
      "   macro avg       0.91      0.91      0.91       449\n",
      "weighted avg       0.91      0.91      0.91       449\n",
      "\n"
     ]
    }
   ],
   "source": [
    "y_pred_svc = svc_mod.predict(X_test)\n",
    "report_svc = classification_report(y_test, y_pred_svc)\n",
    "print(report_svc)"
   ]
  },
  {
   "cell_type": "code",
   "execution_count": 33,
   "id": "89927f6e-a396-481f-86ec-bd33c5751787",
   "metadata": {},
   "outputs": [
    {
     "data": {
      "text/plain": [
       "array([[206,  21],\n",
       "       [ 18, 204]])"
      ]
     },
     "execution_count": 33,
     "metadata": {},
     "output_type": "execute_result"
    }
   ],
   "source": [
    "confusion_matrix(y_test,y_pred_svc)"
   ]
  },
  {
   "cell_type": "markdown",
   "id": "866f5bdd-0ce1-4081-95dd-975fcf57eb14",
   "metadata": {},
   "source": [
    "### Please note the benefits of cross validation"
   ]
  },
  {
   "cell_type": "markdown",
   "id": "809ea502-d373-4a48-afec-5c0da9fe0d19",
   "metadata": {},
   "source": [
    "### Results with RF"
   ]
  },
  {
   "cell_type": "code",
   "execution_count": 34,
   "id": "35627be2-8720-42d6-a629-2a45ce9b9005",
   "metadata": {},
   "outputs": [
    {
     "data": {
      "text/plain": [
       "{'precision': 0.9901477832512315,\n",
       " 'recall': 0.9054054054054054,\n",
       " 'f1-score': 0.9458823529411764,\n",
       " 'support': 222.0}"
      ]
     },
     "execution_count": 34,
     "metadata": {},
     "output_type": "execute_result"
    }
   ],
   "source": [
    "y_pred_rf = rf_mod.predict(X_test)\n",
    "report_rf = classification_report(y_test, y_pred_rf, output_dict=True)\n",
    "report_rf[\"spam\"]"
   ]
  },
  {
   "cell_type": "markdown",
   "id": "d05a00f4-360e-4c18-b1d5-5e193e35bc0a",
   "metadata": {},
   "source": [
    "SVC seems to be the path here, however, there is still needs to be hypterparameter tuning\n",
    "as well as crossvalidation"
   ]
  },
  {
   "cell_type": "code",
   "execution_count": 35,
   "id": "92244758-0953-4b0a-8c07-07b30b39e38a",
   "metadata": {},
   "outputs": [
    {
     "data": {
      "text/plain": [
       "array([[225,   2],\n",
       "       [ 21, 201]])"
      ]
     },
     "execution_count": 35,
     "metadata": {},
     "output_type": "execute_result"
    }
   ],
   "source": [
    "confusion_matrix(y_test, y_pred_rf)"
   ]
  },
  {
   "cell_type": "code",
   "execution_count": 10,
   "id": "200f6ae1-9ea6-40c1-abac-8b12f86e1a8a",
   "metadata": {},
   "outputs": [],
   "source": []
  },
  {
   "cell_type": "code",
   "execution_count": 156,
   "id": "3bd83257-1272-4e76-b050-89f894c444f8",
   "metadata": {},
   "outputs": [],
   "source": []
  },
  {
   "cell_type": "code",
   "execution_count": 157,
   "id": "264d7eeb-07c6-4a0c-b9f6-490baa75ade8",
   "metadata": {},
   "outputs": [
    {
     "name": "stdout",
     "output_type": "stream",
     "text": [
      "using precission as the Best parameter to evaluate on (CV score=0.944):\n",
      "{'svc__C': 10, 'svc__kernel': 'linear'}\n"
     ]
    }
   ],
   "source": []
  },
  {
   "cell_type": "code",
   "execution_count": 158,
   "id": "1f8ab6f0-f0d6-4a09-b57f-8ec019c545fd",
   "metadata": {},
   "outputs": [
    {
     "data": {
      "text/plain": [
       "{'precision': 0.9813084112149533,\n",
       " 'recall': 0.9459459459459459,\n",
       " 'f1-score': 0.963302752293578,\n",
       " 'support': 222.0}"
      ]
     },
     "execution_count": 158,
     "metadata": {},
     "output_type": "execute_result"
    }
   ],
   "source": [
    "y_pred_svc = search.predict(X_test)\n",
    "report_svc = classification_report(y_test, y_pred_svc, output_dict=True)\n",
    "report_svc[\"spam\"]"
   ]
  },
  {
   "cell_type": "code",
   "execution_count": 1,
   "id": "86012a98-f1eb-489d-a916-11fea62282be",
   "metadata": {},
   "outputs": [],
   "source": [
    "from sklearn.metrics import confusion_matrix"
   ]
  },
  {
   "cell_type": "code",
   "execution_count": 2,
   "id": "cf4ac04c-64c3-434d-96c7-61fea160ddfb",
   "metadata": {},
   "outputs": [
    {
     "ename": "NameError",
     "evalue": "name 'y_test' is not defined",
     "output_type": "error",
     "traceback": [
      "\u001b[0;31m---------------------------------------------------------------------------\u001b[0m",
      "\u001b[0;31mNameError\u001b[0m                                 Traceback (most recent call last)",
      "Cell \u001b[0;32mIn[2], line 1\u001b[0m\n\u001b[0;32m----> 1\u001b[0m confusion_matrix(\u001b[43my_test\u001b[49m,y_pred_svc)\n",
      "\u001b[0;31mNameError\u001b[0m: name 'y_test' is not defined"
     ]
    }
   ],
   "source": [
    "confusion_matrix(y_test,y_pred_svc)"
   ]
  }
 ],
 "metadata": {
  "kernelspec": {
   "display_name": "Python 3 (ipykernel)",
   "language": "python",
   "name": "python3"
  },
  "language_info": {
   "codemirror_mode": {
    "name": "ipython",
    "version": 3
   },
   "file_extension": ".py",
   "mimetype": "text/x-python",
   "name": "python",
   "nbconvert_exporter": "python",
   "pygments_lexer": "ipython3",
   "version": "3.9.16"
  }
 },
 "nbformat": 4,
 "nbformat_minor": 5
}
