{
 "cells": [
  {
   "cell_type": "code",
   "execution_count": 3,
   "id": "e2886e07-93e9-4656-92d1-9c02a802f813",
   "metadata": {},
   "outputs": [],
   "source": [
    "from pprint import pprint\n",
    "import pandas as pd\n",
    "\n",
    "from sklearn.feature_extraction.text import TfidfVectorizer\n",
    "from sklearn.ensemble import RandomForestClassifier\n",
    "from sklearn import svm\n",
    "from sklearn.pipeline import Pipeline\n",
    "from sklearn.compose import ColumnTransformer\n",
    "from sklearn.preprocessing import StandardScaler, FunctionTransformer\n",
    "\n",
    "from sklearn.model_selection import train_test_split\n",
    "\n",
    "from sklearn.metrics \\\n",
    "import classification_report, recall_score, accuracy_score,precision_score, make_scorer,confusion_matrix\n",
    "from sklearn.model_selection import GridSearchCV\n"
   ]
  },
  {
   "cell_type": "code",
   "execution_count": 4,
   "id": "0389fff1-5cef-4102-8a70-f7d1f1c0c68a",
   "metadata": {},
   "outputs": [],
   "source": [
    "data = pd.read_csv(\"processed_dataset.csv\")"
   ]
  },
  {
   "cell_type": "code",
   "execution_count": 5,
   "id": "6918ef35-3ceb-4fc3-a521-8af2985e2be5",
   "metadata": {},
   "outputs": [
    {
     "data": {
      "text/plain": [
       "label\n",
       "ham     747\n",
       "spam    747\n",
       "Name: count, dtype: int64"
      ]
     },
     "execution_count": 5,
     "metadata": {},
     "output_type": "execute_result"
    }
   ],
   "source": [
    "data.label.value_counts()"
   ]
  },
  {
   "cell_type": "code",
   "execution_count": 4,
   "id": "af7066a7-db64-4cbb-b657-463558df0c13",
   "metadata": {},
   "outputs": [
    {
     "data": {
      "text/html": [
       "<div>\n",
       "<style scoped>\n",
       "    .dataframe tbody tr th:only-of-type {\n",
       "        vertical-align: middle;\n",
       "    }\n",
       "\n",
       "    .dataframe tbody tr th {\n",
       "        vertical-align: top;\n",
       "    }\n",
       "\n",
       "    .dataframe thead th {\n",
       "        text-align: right;\n",
       "    }\n",
       "</style>\n",
       "<table border=\"1\" class=\"dataframe\">\n",
       "  <thead>\n",
       "    <tr style=\"text-align: right;\">\n",
       "      <th></th>\n",
       "      <th>label</th>\n",
       "      <th>message</th>\n",
       "      <th>length</th>\n",
       "      <th>punct</th>\n",
       "    </tr>\n",
       "  </thead>\n",
       "  <tbody>\n",
       "    <tr>\n",
       "      <th>0</th>\n",
       "      <td>ham</td>\n",
       "      <td>Yup, no need. I'll jus wait 4 e rain 2 stop.</td>\n",
       "      <td>44</td>\n",
       "      <td>4</td>\n",
       "    </tr>\n",
       "    <tr>\n",
       "      <th>1</th>\n",
       "      <td>ham</td>\n",
       "      <td>How much would it cost to hire a hitman</td>\n",
       "      <td>39</td>\n",
       "      <td>0</td>\n",
       "    </tr>\n",
       "    <tr>\n",
       "      <th>2</th>\n",
       "      <td>ham</td>\n",
       "      <td>It wont b until 2.15 as trying 2 sort house ou...</td>\n",
       "      <td>60</td>\n",
       "      <td>3</td>\n",
       "    </tr>\n",
       "    <tr>\n",
       "      <th>3</th>\n",
       "      <td>ham</td>\n",
       "      <td>Great. Never been better. Each day gives even ...</td>\n",
       "      <td>71</td>\n",
       "      <td>2</td>\n",
       "    </tr>\n",
       "    <tr>\n",
       "      <th>4</th>\n",
       "      <td>ham</td>\n",
       "      <td>I had askd u a question some hours before. Its...</td>\n",
       "      <td>53</td>\n",
       "      <td>1</td>\n",
       "    </tr>\n",
       "  </tbody>\n",
       "</table>\n",
       "</div>"
      ],
      "text/plain": [
       "  label                                            message  length  punct\n",
       "0   ham       Yup, no need. I'll jus wait 4 e rain 2 stop.      44      4\n",
       "1   ham            How much would it cost to hire a hitman      39      0\n",
       "2   ham  It wont b until 2.15 as trying 2 sort house ou...      60      3\n",
       "3   ham  Great. Never been better. Each day gives even ...      71      2\n",
       "4   ham  I had askd u a question some hours before. Its...      53      1"
      ]
     },
     "execution_count": 4,
     "metadata": {},
     "output_type": "execute_result"
    }
   ],
   "source": [
    "data.head()"
   ]
  },
  {
   "cell_type": "code",
   "execution_count": 5,
   "id": "8b5f35ba-1dce-4978-95fd-c570ce29a14e",
   "metadata": {},
   "outputs": [
    {
     "data": {
      "text/html": [
       "<div>\n",
       "<style scoped>\n",
       "    .dataframe tbody tr th:only-of-type {\n",
       "        vertical-align: middle;\n",
       "    }\n",
       "\n",
       "    .dataframe tbody tr th {\n",
       "        vertical-align: top;\n",
       "    }\n",
       "\n",
       "    .dataframe thead th {\n",
       "        text-align: right;\n",
       "    }\n",
       "</style>\n",
       "<table border=\"1\" class=\"dataframe\">\n",
       "  <thead>\n",
       "    <tr style=\"text-align: right;\">\n",
       "      <th></th>\n",
       "      <th>message</th>\n",
       "      <th>length</th>\n",
       "      <th>punct</th>\n",
       "    </tr>\n",
       "  </thead>\n",
       "  <tbody>\n",
       "    <tr>\n",
       "      <th>0</th>\n",
       "      <td>Yup, no need. I'll jus wait 4 e rain 2 stop.</td>\n",
       "      <td>44</td>\n",
       "      <td>4</td>\n",
       "    </tr>\n",
       "    <tr>\n",
       "      <th>1</th>\n",
       "      <td>How much would it cost to hire a hitman</td>\n",
       "      <td>39</td>\n",
       "      <td>0</td>\n",
       "    </tr>\n",
       "    <tr>\n",
       "      <th>2</th>\n",
       "      <td>It wont b until 2.15 as trying 2 sort house ou...</td>\n",
       "      <td>60</td>\n",
       "      <td>3</td>\n",
       "    </tr>\n",
       "    <tr>\n",
       "      <th>3</th>\n",
       "      <td>Great. Never been better. Each day gives even ...</td>\n",
       "      <td>71</td>\n",
       "      <td>2</td>\n",
       "    </tr>\n",
       "    <tr>\n",
       "      <th>4</th>\n",
       "      <td>I had askd u a question some hours before. Its...</td>\n",
       "      <td>53</td>\n",
       "      <td>1</td>\n",
       "    </tr>\n",
       "    <tr>\n",
       "      <th>...</th>\n",
       "      <td>...</td>\n",
       "      <td>...</td>\n",
       "      <td>...</td>\n",
       "    </tr>\n",
       "    <tr>\n",
       "      <th>1489</th>\n",
       "      <td>Want explicit SEX in 30 secs? Ring 02073162414...</td>\n",
       "      <td>90</td>\n",
       "      <td>3</td>\n",
       "    </tr>\n",
       "    <tr>\n",
       "      <th>1490</th>\n",
       "      <td>ASKED 3MOBILE IF 0870 CHATLINES INCLU IN FREE ...</td>\n",
       "      <td>158</td>\n",
       "      <td>5</td>\n",
       "    </tr>\n",
       "    <tr>\n",
       "      <th>1491</th>\n",
       "      <td>Had your contract mobile 11 Mnths? Latest Moto...</td>\n",
       "      <td>160</td>\n",
       "      <td>8</td>\n",
       "    </tr>\n",
       "    <tr>\n",
       "      <th>1492</th>\n",
       "      <td>REMINDER FROM O2: To get 2.50 pounds free call...</td>\n",
       "      <td>147</td>\n",
       "      <td>3</td>\n",
       "    </tr>\n",
       "    <tr>\n",
       "      <th>1493</th>\n",
       "      <td>This is the 2nd time we have tried 2 contact u...</td>\n",
       "      <td>160</td>\n",
       "      <td>8</td>\n",
       "    </tr>\n",
       "  </tbody>\n",
       "</table>\n",
       "<p>1494 rows × 3 columns</p>\n",
       "</div>"
      ],
      "text/plain": [
       "                                                message  length  punct\n",
       "0          Yup, no need. I'll jus wait 4 e rain 2 stop.      44      4\n",
       "1               How much would it cost to hire a hitman      39      0\n",
       "2     It wont b until 2.15 as trying 2 sort house ou...      60      3\n",
       "3     Great. Never been better. Each day gives even ...      71      2\n",
       "4     I had askd u a question some hours before. Its...      53      1\n",
       "...                                                 ...     ...    ...\n",
       "1489  Want explicit SEX in 30 secs? Ring 02073162414...      90      3\n",
       "1490  ASKED 3MOBILE IF 0870 CHATLINES INCLU IN FREE ...     158      5\n",
       "1491  Had your contract mobile 11 Mnths? Latest Moto...     160      8\n",
       "1492  REMINDER FROM O2: To get 2.50 pounds free call...     147      3\n",
       "1493  This is the 2nd time we have tried 2 contact u...     160      8\n",
       "\n",
       "[1494 rows x 3 columns]"
      ]
     },
     "execution_count": 5,
     "metadata": {},
     "output_type": "execute_result"
    }
   ],
   "source": [
    "data.loc[:,[\"message\",\"length\",\"punct\"]]"
   ]
  },
  {
   "cell_type": "markdown",
   "id": "83810567-b954-4d5a-9a81-a9a57b898e79",
   "metadata": {},
   "source": [
    "### Split data"
   ]
  },
  {
   "cell_type": "code",
   "execution_count": 6,
   "id": "1b6ad1f7-92b1-40fd-870f-ca3e83437f84",
   "metadata": {},
   "outputs": [],
   "source": [
    "X_train, X_test, y_train, y_test =\\\n",
    "train_test_split(data.loc[:,[\"message\",\"length\",\"punct\"]],data[\"label\"], test_size= 0.3, random_state= 0)"
   ]
  },
  {
   "cell_type": "code",
   "execution_count": 7,
   "id": "b36748ae-1065-4d16-8267-9f7393829381",
   "metadata": {},
   "outputs": [
    {
     "data": {
      "text/html": [
       "<div>\n",
       "<style scoped>\n",
       "    .dataframe tbody tr th:only-of-type {\n",
       "        vertical-align: middle;\n",
       "    }\n",
       "\n",
       "    .dataframe tbody tr th {\n",
       "        vertical-align: top;\n",
       "    }\n",
       "\n",
       "    .dataframe thead th {\n",
       "        text-align: right;\n",
       "    }\n",
       "</style>\n",
       "<table border=\"1\" class=\"dataframe\">\n",
       "  <thead>\n",
       "    <tr style=\"text-align: right;\">\n",
       "      <th></th>\n",
       "      <th>message</th>\n",
       "      <th>length</th>\n",
       "      <th>punct</th>\n",
       "    </tr>\n",
       "  </thead>\n",
       "  <tbody>\n",
       "    <tr>\n",
       "      <th>1438</th>\n",
       "      <td>You have 1 new message. Please call 08715205273</td>\n",
       "      <td>47</td>\n",
       "      <td>1</td>\n",
       "    </tr>\n",
       "    <tr>\n",
       "      <th>431</th>\n",
       "      <td>Sorry, left phone upstairs. OK, might be hecti...</td>\n",
       "      <td>107</td>\n",
       "      <td>6</td>\n",
       "    </tr>\n",
       "    <tr>\n",
       "      <th>194</th>\n",
       "      <td>Usually the person is unconscious that's in ch...</td>\n",
       "      <td>117</td>\n",
       "      <td>3</td>\n",
       "    </tr>\n",
       "    <tr>\n",
       "      <th>240</th>\n",
       "      <td>Then u ask darren go n pick u lor... But i oso...</td>\n",
       "      <td>74</td>\n",
       "      <td>6</td>\n",
       "    </tr>\n",
       "    <tr>\n",
       "      <th>1309</th>\n",
       "      <td>Had your mobile 11 months or more? U R entitle...</td>\n",
       "      <td>154</td>\n",
       "      <td>2</td>\n",
       "    </tr>\n",
       "    <tr>\n",
       "      <th>...</th>\n",
       "      <td>...</td>\n",
       "      <td>...</td>\n",
       "      <td>...</td>\n",
       "    </tr>\n",
       "    <tr>\n",
       "      <th>763</th>\n",
       "      <td>Your free ringtone is waiting to be collected....</td>\n",
       "      <td>158</td>\n",
       "      <td>8</td>\n",
       "    </tr>\n",
       "    <tr>\n",
       "      <th>835</th>\n",
       "      <td>XCLUSIVE@CLUBSAISAI 2MOROW 28/5 SOIREE SPECIAL...</td>\n",
       "      <td>135</td>\n",
       "      <td>8</td>\n",
       "    </tr>\n",
       "    <tr>\n",
       "      <th>1216</th>\n",
       "      <td>Dorothy@kiefer.com (Bank of Granite issues Str...</td>\n",
       "      <td>156</td>\n",
       "      <td>26</td>\n",
       "    </tr>\n",
       "    <tr>\n",
       "      <th>559</th>\n",
       "      <td>Hi good mornin.. Thanku wish u d same..</td>\n",
       "      <td>39</td>\n",
       "      <td>4</td>\n",
       "    </tr>\n",
       "    <tr>\n",
       "      <th>684</th>\n",
       "      <td>wow. You're right! I didn't mean to do that. I...</td>\n",
       "      <td>183</td>\n",
       "      <td>8</td>\n",
       "    </tr>\n",
       "  </tbody>\n",
       "</table>\n",
       "<p>1045 rows × 3 columns</p>\n",
       "</div>"
      ],
      "text/plain": [
       "                                                message  length  punct\n",
       "1438    You have 1 new message. Please call 08715205273      47      1\n",
       "431   Sorry, left phone upstairs. OK, might be hecti...     107      6\n",
       "194   Usually the person is unconscious that's in ch...     117      3\n",
       "240   Then u ask darren go n pick u lor... But i oso...      74      6\n",
       "1309  Had your mobile 11 months or more? U R entitle...     154      2\n",
       "...                                                 ...     ...    ...\n",
       "763   Your free ringtone is waiting to be collected....     158      8\n",
       "835   XCLUSIVE@CLUBSAISAI 2MOROW 28/5 SOIREE SPECIAL...     135      8\n",
       "1216  Dorothy@kiefer.com (Bank of Granite issues Str...     156     26\n",
       "559             Hi good mornin.. Thanku wish u d same..      39      4\n",
       "684   wow. You're right! I didn't mean to do that. I...     183      8\n",
       "\n",
       "[1045 rows x 3 columns]"
      ]
     },
     "execution_count": 7,
     "metadata": {},
     "output_type": "execute_result"
    }
   ],
   "source": [
    "X_train"
   ]
  },
  {
   "cell_type": "code",
   "execution_count": 13,
   "id": "c428031e-70fa-4f65-8e28-6137768fc858",
   "metadata": {},
   "outputs": [
    {
     "data": {
      "text/plain": [
       "pandas.core.frame.DataFrame"
      ]
     },
     "execution_count": 13,
     "metadata": {},
     "output_type": "execute_result"
    }
   ],
   "source": [
    "type(X_train.loc[:,[\"message\"]])"
   ]
  },
  {
   "cell_type": "markdown",
   "id": "ea534787-76a2-46a2-84ae-7fd1a01b4fe7",
   "metadata": {},
   "source": [
    "### Define pipelines"
   ]
  },
  {
   "cell_type": "code",
   "execution_count": 14,
   "id": "05a3d6f5-6e62-44e5-80a9-18d2723f1d22",
   "metadata": {},
   "outputs": [],
   "source": [
    "numeric_features = [\"length\", \"punct\"]\n",
    "categorical_features = [\"message\"]\n",
    "\n",
    "numeric_transformer = Pipeline(\n",
    "    steps=[(\"scaler\", StandardScaler())]\n",
    ")\n",
    "\n",
    "categorical_transformer = Pipeline(\n",
    "    steps=[\n",
    "        (\"squeez\", FunctionTransformer(lambda x: x.squeeze())), # make sure you pass a series\n",
    "        (\"tfidf\",TfidfVectorizer())\n",
    "    ]\n",
    ")\n",
    "\n",
    "preprocessor = ColumnTransformer(\n",
    "    transformers=[\n",
    "        (\"num\", numeric_transformer, numeric_features),\n",
    "        (\"cat\", categorical_transformer, categorical_features)\n",
    "    ]\n",
    ")\n",
    "\n",
    "classifierRF = Pipeline(\n",
    "    [\n",
    "        (\"preprocessor\",preprocessor),\n",
    "        (\"classifier\",RandomForestClassifier(n_estimators=100,random_state=0))\n",
    "    ]\n",
    ")\n",
    "\n",
    "classifierSVC = Pipeline(\n",
    "    [\n",
    "        (\"preprocessor\",preprocessor),\n",
    "        (\"svc\",svm.SVC(random_state=0))\n",
    "    ]\n",
    ")\n"
   ]
  },
  {
   "cell_type": "markdown",
   "id": "4b197987-49f6-4d91-89cc-5fdbe16c9e76",
   "metadata": {},
   "source": [
    "### Applying 5 fld cross validation, with a hyperparameter search\n",
    "### Score metric to be used is precision score"
   ]
  },
  {
   "cell_type": "code",
   "execution_count": 18,
   "id": "9530ca63-6999-463f-b083-63fad87ccdd4",
   "metadata": {},
   "outputs": [],
   "source": [
    "param_grid_svc = {\n",
    "    \"svc__C\": [1, 10, 100],\n",
    "    \"svc__kernel\": ['linear', 'rbf', 'sigmoid'],\n",
    "    \"svc__gamma\": [\"auto\",\"scale\"]\n",
    "}\n",
    "best_svc = GridSearchCV(classifierSVC, param_grid_svc,n_jobs=8,cv=5,scoring=make_scorer(precision_score,pos_label=\"spam\"))"
   ]
  },
  {
   "cell_type": "markdown",
   "id": "4e951c3a-1f35-4d8b-a721-f1d3320ef0c5",
   "metadata": {},
   "source": [
    "### Fit"
   ]
  },
  {
   "cell_type": "code",
   "execution_count": 19,
   "id": "6c496d73-5a14-4820-89e5-22a54917bbe1",
   "metadata": {},
   "outputs": [
    {
     "name": "stdout",
     "output_type": "stream",
     "text": [
      "using precission as the Best parameter to evaluate on (CV score=0.975):\n",
      "{'svc__C': 10, 'svc__gamma': 'auto', 'svc__kernel': 'linear'}\n"
     ]
    }
   ],
   "source": [
    "best_svc.fit(X_train, y_train)\n",
    "print(\"using precission as the Best parameter to evaluate on (CV score=%0.3f):\" % best_svc.best_score_)\n",
    "print(best_svc.best_params_)"
   ]
  },
  {
   "cell_type": "code",
   "execution_count": 20,
   "id": "f73d2a72-3091-4bfc-b49c-3ebab43b6173",
   "metadata": {},
   "outputs": [
    {
     "name": "stdout",
     "output_type": "stream",
     "text": [
      "              precision    recall  f1-score   support\n",
      "\n",
      "         ham       0.96      0.98      0.97       227\n",
      "        spam       0.98      0.96      0.97       222\n",
      "\n",
      "    accuracy                           0.97       449\n",
      "   macro avg       0.97      0.97      0.97       449\n",
      "weighted avg       0.97      0.97      0.97       449\n",
      "\n"
     ]
    }
   ],
   "source": [
    "y_pred_svc = best_svc.predict(X_test)\n",
    "y_pred_svc_train = best_svc.predict(X_train)\n",
    "report_svc = classification_report(y_test, y_pred_svc)\n",
    "print(report_svc)"
   ]
  },
  {
   "cell_type": "code",
   "execution_count": 21,
   "id": "fca13420-3d65-4aa9-be87-75ef4e61135c",
   "metadata": {},
   "outputs": [
    {
     "name": "stdout",
     "output_type": "stream",
     "text": [
      "array([[520,   0],\n",
      "       [  0, 525]])\n",
      "array([[222,   5],\n",
      "       [  9, 213]])\n"
     ]
    }
   ],
   "source": [
    "pprint(confusion_matrix(y_train, y_pred_svc_train))\n",
    "pprint(confusion_matrix(y_test, y_pred_svc))"
   ]
  },
  {
   "cell_type": "markdown",
   "id": "d1d7b54a-82ba-4a95-a126-ff7f25663c40",
   "metadata": {},
   "source": [
    "### SVC Fit without CV or hyperparameter search"
   ]
  },
  {
   "cell_type": "code",
   "execution_count": 23,
   "id": "c0d7776b-067a-4212-8f2e-b5098dc8131c",
   "metadata": {},
   "outputs": [],
   "source": [
    "svc_mod = classifierSVC.fit(X_train,y_train)\n",
    "rf_mod = classifierRF.fit(X_train, y_train)"
   ]
  },
  {
   "cell_type": "code",
   "execution_count": 24,
   "id": "6fbc42d2-2a33-49ab-bf84-50f4b630ed67",
   "metadata": {},
   "outputs": [
    {
     "name": "stdout",
     "output_type": "stream",
     "text": [
      "              precision    recall  f1-score   support\n",
      "\n",
      "         ham       0.92      0.93      0.92       227\n",
      "        spam       0.92      0.91      0.92       222\n",
      "\n",
      "    accuracy                           0.92       449\n",
      "   macro avg       0.92      0.92      0.92       449\n",
      "weighted avg       0.92      0.92      0.92       449\n",
      "\n"
     ]
    }
   ],
   "source": [
    "y_pred_svc = svc_mod.predict(X_test)\n",
    "report_svc = classification_report(y_test, y_pred_svc)\n",
    "print(report_svc)"
   ]
  },
  {
   "cell_type": "code",
   "execution_count": 33,
   "id": "89927f6e-a396-481f-86ec-bd33c5751787",
   "metadata": {},
   "outputs": [
    {
     "data": {
      "text/plain": [
       "array([[206,  21],\n",
       "       [ 18, 204]])"
      ]
     },
     "execution_count": 33,
     "metadata": {},
     "output_type": "execute_result"
    }
   ],
   "source": [
    "confusion_matrix(y_test,y_pred_svc)"
   ]
  },
  {
   "cell_type": "markdown",
   "id": "866f5bdd-0ce1-4081-95dd-975fcf57eb14",
   "metadata": {},
   "source": [
    "### Please note the benefits of cross validation"
   ]
  },
  {
   "cell_type": "markdown",
   "id": "809ea502-d373-4a48-afec-5c0da9fe0d19",
   "metadata": {},
   "source": [
    "### Results with RF"
   ]
  },
  {
   "cell_type": "code",
   "execution_count": 25,
   "id": "35627be2-8720-42d6-a629-2a45ce9b9005",
   "metadata": {},
   "outputs": [
    {
     "data": {
      "text/plain": [
       "{'precision': 0.9805825242718447,\n",
       " 'recall': 0.9099099099099099,\n",
       " 'f1-score': 0.9439252336448598,\n",
       " 'support': 222.0}"
      ]
     },
     "execution_count": 25,
     "metadata": {},
     "output_type": "execute_result"
    }
   ],
   "source": [
    "y_pred_rf = rf_mod.predict(X_test)\n",
    "report_rf = classification_report(y_test, y_pred_rf, output_dict=True)\n",
    "report_rf[\"spam\"]"
   ]
  },
  {
   "cell_type": "markdown",
   "id": "d05a00f4-360e-4c18-b1d5-5e193e35bc0a",
   "metadata": {},
   "source": [
    "SVC seems to be the path here, however, there is still needs to be hypterparameter tuning\n",
    "as well as crossvalidation"
   ]
  },
  {
   "cell_type": "code",
   "execution_count": 26,
   "id": "92244758-0953-4b0a-8c07-07b30b39e38a",
   "metadata": {},
   "outputs": [
    {
     "data": {
      "text/plain": [
       "array([[223,   4],\n",
       "       [ 20, 202]])"
      ]
     },
     "execution_count": 26,
     "metadata": {},
     "output_type": "execute_result"
    }
   ],
   "source": [
    "confusion_matrix(y_test, y_pred_rf)"
   ]
  },
  {
   "cell_type": "code",
   "execution_count": 10,
   "id": "200f6ae1-9ea6-40c1-abac-8b12f86e1a8a",
   "metadata": {},
   "outputs": [],
   "source": []
  },
  {
   "cell_type": "code",
   "execution_count": 156,
   "id": "3bd83257-1272-4e76-b050-89f894c444f8",
   "metadata": {},
   "outputs": [],
   "source": []
  },
  {
   "cell_type": "code",
   "execution_count": 157,
   "id": "264d7eeb-07c6-4a0c-b9f6-490baa75ade8",
   "metadata": {},
   "outputs": [
    {
     "name": "stdout",
     "output_type": "stream",
     "text": [
      "using precission as the Best parameter to evaluate on (CV score=0.944):\n",
      "{'svc__C': 10, 'svc__kernel': 'linear'}\n"
     ]
    }
   ],
   "source": []
  },
  {
   "cell_type": "code",
   "execution_count": 27,
   "id": "1f8ab6f0-f0d6-4a09-b57f-8ec019c545fd",
   "metadata": {},
   "outputs": [
    {
     "ename": "NameError",
     "evalue": "name 'search' is not defined",
     "output_type": "error",
     "traceback": [
      "\u001b[0;31m---------------------------------------------------------------------------\u001b[0m",
      "\u001b[0;31mNameError\u001b[0m                                 Traceback (most recent call last)",
      "Cell \u001b[0;32mIn[27], line 1\u001b[0m\n\u001b[0;32m----> 1\u001b[0m y_pred_svc \u001b[38;5;241m=\u001b[39m \u001b[43msearch\u001b[49m\u001b[38;5;241m.\u001b[39mpredict(X_test)\n\u001b[1;32m      2\u001b[0m report_svc \u001b[38;5;241m=\u001b[39m classification_report(y_test, y_pred_svc, output_dict\u001b[38;5;241m=\u001b[39m\u001b[38;5;28;01mTrue\u001b[39;00m)\n\u001b[1;32m      3\u001b[0m report_svc[\u001b[38;5;124m\"\u001b[39m\u001b[38;5;124mspam\u001b[39m\u001b[38;5;124m\"\u001b[39m]\n",
      "\u001b[0;31mNameError\u001b[0m: name 'search' is not defined"
     ]
    }
   ],
   "source": [
    "y_pred_svc = search.predict(X_test)\n",
    "report_svc = classification_report(y_test, y_pred_svc, output_dict=True)\n",
    "report_svc[\"spam\"]"
   ]
  },
  {
   "cell_type": "code",
   "execution_count": 1,
   "id": "86012a98-f1eb-489d-a916-11fea62282be",
   "metadata": {},
   "outputs": [],
   "source": [
    "from sklearn.metrics import confusion_matrix"
   ]
  },
  {
   "cell_type": "code",
   "execution_count": 28,
   "id": "cf4ac04c-64c3-434d-96c7-61fea160ddfb",
   "metadata": {},
   "outputs": [
    {
     "data": {
      "text/plain": [
       "array([[210,  17],\n",
       "       [ 19, 203]])"
      ]
     },
     "execution_count": 28,
     "metadata": {},
     "output_type": "execute_result"
    }
   ],
   "source": [
    "confusion_matrix(y_test,y_pred_svc)"
   ]
  }
 ],
 "metadata": {
  "kernelspec": {
   "display_name": "Python 3 (ipykernel)",
   "language": "python",
   "name": "python3"
  },
  "language_info": {
   "codemirror_mode": {
    "name": "ipython",
    "version": 3
   },
   "file_extension": ".py",
   "mimetype": "text/x-python",
   "name": "python",
   "nbconvert_exporter": "python",
   "pygments_lexer": "ipython3",
   "version": "3.9.16"
  }
 },
 "nbformat": 4,
 "nbformat_minor": 5
}
